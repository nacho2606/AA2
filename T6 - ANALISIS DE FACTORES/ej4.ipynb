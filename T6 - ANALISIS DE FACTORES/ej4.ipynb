{
 "cells": [
  {
   "cell_type": "markdown",
   "id": "f83428ad-f04f-4221-9a68-d86c233a104a",
   "metadata": {
    "id": "f83428ad-f04f-4221-9a68-d86c233a104a"
   },
   "source": [
    "En esta versión se considera una covarianza (del ruido) por cada componente. Además, se calcula la verosimilitud directamente, sin recurrir a Scipy, porque **en caso contrario se producen errores numéricos** debidos a la aparición de matrices singulares.\n",
    "\n",
    "Incluso así, con el conjunto de datos de las caras de Olivetti las matrices singulares son un problema en cuanto el número de componentes es superior a 20 y el número de factores latentes supera 4. Para tratar de aliviar el problema, además de asegurar que las covarianzas son siempre definidas positivas, también se garantiza que la responsabilidad de un clúster por sus datos sea mayor que 0 y se añade un pequeño término regularizador a la matriz que hay que invertir para calcular $\\tilde{\\mathbf{W}}$.\n",
    "\n",
    "Como última optimización, la inicialización de las medias ha pasado de ser un conjunto aleatorio de los elementos del conjunto a las medias de los clúster obtenidos aplicando el algoritmo K-medias.\n",
    "\n",
    "Por último, se ha modificado el criterio para abortar EM: aquí se hace si la verosimilitud desciende en tres ocasiones."
   ]
  },
  {
   "cell_type": "code",
   "execution_count": 1,
   "id": "554e517e-a86e-4dcc-a015-f2209ff6d52c",
   "metadata": {
    "id": "554e517e-a86e-4dcc-a015-f2209ff6d52c"
   },
   "outputs": [],
   "source": [
    "import numpy as np\n",
    "from scipy.special import logsumexp\n",
    "from sklearn.datasets import fetch_openml\n",
    "import matplotlib.pyplot as plt"
   ]
  },
  {
   "cell_type": "code",
   "execution_count": 2,
   "id": "5fb6cd37-6ff0-4219-bcd0-0a75ea0c900d",
   "metadata": {
    "id": "5fb6cd37-6ff0-4219-bcd0-0a75ea0c900d"
   },
   "outputs": [],
   "source": [
    "from scipy.stats import multivariate_normal"
   ]
  },
  {
   "cell_type": "markdown",
   "id": "38f8605d-990e-4fa3-8621-6cfa134bd5eb",
   "metadata": {
    "id": "38f8605d-990e-4fa3-8621-6cfa134bd5eb"
   },
   "source": [
    "## Mezcla de analizadores de factores.\n",
    "\n",
    "Vamos a diseñar una clase MixtureFA que implemente el algoritmo EM para una mezcla de analizadores de factores. Para ello vamos a seguir la descripción en el libro de Murphy (sección 28.3.3); en concreto, los pasos E y M aparecen recogidos en la sección 28.3.3.2.\n",
    "\n",
    "### Paso E:\n",
    "Hay que calcular las siguientes cantidades:\n",
    "- $r_{ij}$, la responsabilidad del clúster $j$ por la muestra $i$.\n",
    "- $\\mathbb{E}[\\mathbf{z}| w_j, \\mathbf{x}_i] = \\mathbf{B}_j(\\mathbf{x}_i - \\boldsymbol{\\mu}_j)$: las esperanzas de los factores latentes.\n",
    "- $\\mathbb{E}[\\mathbf{z}| w_j, \\mathbf{x}_i] = \\mathbf{I} - \\mathbf{B}_j\\mathbf{W}_j + \\mathbf{B}_j(\\mathbf{x}_i - \\boldsymbol{\\mu}_j)(\\mathbf{x}_i - \\boldsymbol{\\mu}_j)^\\mathrm{T}\\mathbf{B}_j^\\mathrm{T}$: las esperanzas de los factores latentes al cuadrado (en la fórmula del libro falta el subíndice $i$ en algunas $\\mathbf{x}$.\n",
    "\n",
    "### Paso M.\n",
    "Con las cantidades anteriores se actualizan los parámetros de la mezcla.\n",
    "- $[\\mathbf{W}_j^\\mathrm{new}, \\boldsymbol{\\mu}_j^\\mathrm{new}] = \\mathbf{\\tilde{W}^\\mathrm{new}} = (\\sum r_{ij}\\textbf{x}_i \\mathbb{E}[\\tilde{\\mathbf{z}}| w_j, \\mathbf{x}_i]^\\mathrm{T})(\\sum r_{ij}\\mathbb{E}[\\tilde{\\mathbf{z}}\\tilde{\\mathbf{z}}^\\mathrm{T}|\\mathbf{x}_i,w_j])^{-1}$.\n",
    "- $\\boldsymbol{\\Psi}^\\mathrm{new}_k = \\frac{1}{N_k} \\textrm{diag}(\\sum_i (\\mathbf{x}_i - \\mathbf{\\tilde{W}}_k^\\mathrm{new} \\mathbb{E}[\\mathbf{\\tilde{z}}|\\mathbf{x}_i,w_k]) \\mathbf{x}_i^\\mathrm{T})$\n",
    "\n",
    "\n",
    "Consúltese el libro para todos los detalles y complétense los detalles que faltan en la clase (básicamente, los métodos para los pasos E y M)."
   ]
  },
  {
   "cell_type": "code",
   "execution_count": 9,
   "id": "4874e6ba-9aa9-4b93-9f2d-d9d19b351260",
   "metadata": {
    "id": "4874e6ba-9aa9-4b93-9f2d-d9d19b351260"
   },
   "outputs": [],
   "source": [
    "import numpy as np\n",
    "import matplotlib.pyplot as plt\n",
    "from sklearn.cluster import KMeans\n",
    "from scipy.special import logsumexp\n",
    "\n",
    "class MixtureFA:\n",
    "    def __init__(self, n_components, n_latents, max_iter=10, tol=1e-6):\n",
    "        self.n_components = n_components\n",
    "        self.n_latents = n_latents\n",
    "        self.max_iter = max_iter\n",
    "        self.tol = tol\n",
    "\n",
    "    def _initialize_parameters(self, X):\n",
    "        self.n_features, self.n_samples = X.shape\n",
    "\n",
    "        # Inicializar las responsabilidades.\n",
    "        self.weights_ = np.ones(self.n_components) / self.n_components\n",
    "\n",
    "        # Inicializar medias (mu), matriz W (factor loading) y covarianza con el ruido (Psi).\n",
    "        # shape (n_components, n_features)\n",
    "\n",
    "        # Inicializar medias utilizando k-medias.\n",
    "        kmeans = KMeans(n_clusters=self.n_components).fit(X.T)\n",
    "        self.means_ = kmeans.cluster_centers_.T  # shape (n_features, n_components)\n",
    "\n",
    "        # shape (n_components, n_features, n_latents)\n",
    "        self.loadings_ = np.random.randn(self.n_components, self.n_features, self.n_latents)\n",
    "\n",
    "        # shape (n_components, n_features)\n",
    "        self.psi_ = np.ones((self.n_components, self.n_features))\n",
    "\n",
    "    def _e_step(self, X):\n",
    "        log_resp = np.zeros((self.n_samples, self.n_components))\n",
    "\n",
    "        expected_z = np.zeros((self.n_components, self.n_samples, self.n_latents))\n",
    "        expected_zz = np.zeros((self.n_components, self.n_samples, self.n_latents, self.n_latents))\n",
    "\n",
    "        for k in range(self.n_components):\n",
    "            W = self.loadings_[k]\n",
    "\n",
    "            # Para calcular la inversa de la covarianza, W * W.T + np.diag(psi_)\n",
    "            Psi_inv = np.diag(1 / self.psi_[k])\n",
    "            L = W.T @ Psi_inv @ W + np.eye(self.n_latents)\n",
    "            cov_inv = Psi_inv - Psi_inv @ W @ np.linalg.inv(L) @ W.T @ Psi_inv\n",
    "\n",
    "            # Cálculo de log_det\n",
    "            log_det = np.sum(np.log(self.psi_[k])) + np.log(np.linalg.det(L))\n",
    "\n",
    "            # Centrado de X\n",
    "            X_centered = X - self.means_[:, k].reshape(self.n_features, 1)\n",
    "            quad = np.sum(X_centered.T @ cov_inv * X_centered.T, axis=1)\n",
    "            log_resp[:, k] = np.log(self.weights_[k]) - 0.5 * (self.n_features * np.log(2 * np.pi) + log_det + quad)\n",
    "\n",
    "            # Cálculo de la esperanza de z\n",
    "            beta = np.linalg.inv(L) @ W.T @ Psi_inv\n",
    "            expected_z[k] = (beta @ X_centered).T\n",
    "\n",
    "            # Esperanza de zz.T\n",
    "            cov_factors = np.eye(self.n_latents) - beta @ W\n",
    "            # Corregir la fórmula de la esperanza de zz.T\n",
    "            # Proyectamos X_centered al espacio latente utilizando cov_factors\n",
    "            X_proj = cov_factors @ X_centered.T  # Esto tiene dimensiones (3, n_samples)\n",
    "\n",
    "            # Luego calculamos la esperanza de zz.T\n",
    "            expected_zz[k] = X_proj @ X_proj.T + np.linalg.inv(L)  # Esto debe tener dimensiones compatibles\n",
    "\n",
    "\n",
    "        # Normalización de log_resp en log-espacio\n",
    "        log_resp_norm = logsumexp(log_resp, axis=1)\n",
    "        log_resp -= log_resp_norm[:, np.newaxis]\n",
    "\n",
    "        return log_resp, expected_z, expected_zz\n",
    "\n",
    "    def _m_step(self, X, log_resp, expected_z, expected_zz):\n",
    "        resp = np.exp(log_resp)\n",
    "        psi_new = np.zeros((self.n_features, self.n_features))\n",
    "        epsilon = 1e-5  # Regularización\n",
    "\n",
    "        for k in range(self.n_components):\n",
    "            resp_k = resp[:, k]\n",
    "            total_resp_k = resp_k.sum() + 1e-8\n",
    "\n",
    "            # Actualizar los pesos\n",
    "            self.weights_[k] = total_resp_k / self.n_samples\n",
    "\n",
    "            # Cálculo de matrices aumentadas\n",
    "            Ez_aug = np.hstack((expected_z[k], np.ones((self.n_samples, 1))))\n",
    "            Ezz_aug = np.zeros((self.n_samples, self.n_latents + 1, self.n_latents + 1))\n",
    "            Ezz_aug[:, :self.n_latents, :self.n_latents] = expected_zz[k]\n",
    "            Ezz_aug[:, -1, -1] = 1\n",
    "            Ezz_aug[:, :-1, -1] = Ezz_aug[:, -1, :-1] = np.mean(resp_k[:, None] * expected_z[k], axis=0)\n",
    "\n",
    "            # Cálculos para Wtilde\n",
    "            rightW = X @ Ez_aug\n",
    "            leftW = Ez_aug.T @ Ez_aug\n",
    "            Wtilde = np.linalg.solve(leftW + epsilon * np.eye(self.n_latents + 1), rightW)\n",
    "\n",
    "            # Actualizar loadings y medias\n",
    "            self.loadings_[k] = Wtilde[:, :-1]\n",
    "            self.means_[:, k] = Wtilde[:, -1]\n",
    "\n",
    "            # Actualizar covarianzas del ruido\n",
    "            self.psi_[k] = np.mean((X - self.means_[:, k].reshape(self.n_features, 1)) ** 2, axis=0)\n",
    "\n",
    "            # Asegurar que las psi[k] sean positivas\n",
    "            min_eigenvalue = np.min(self.psi_[k])\n",
    "            if min_eigenvalue < 0:\n",
    "                self.psi_[k] += (-min_eigenvalue + 1e-6)\n",
    "            else:\n",
    "                self.psi_[k] += 1e-6  # Regularización adicional\n",
    "\n",
    "    def fit(self, X):\n",
    "        self._initialize_parameters(X)\n",
    "        prev_log_likelihood = -np.inf\n",
    "        log_likelihoods = []\n",
    "\n",
    "        for iteration in range(self.max_iter):\n",
    "            log_resp, expected_z, expected_zz = self._e_step(X)\n",
    "            if (iteration % 5 == 0):\n",
    "                print('Fin paso E:', iteration)\n",
    "\n",
    "            self._m_step(X, log_resp, expected_z, expected_zz)\n",
    "\n",
    "            log_likelihood = self._compute_log_likelihood(X)\n",
    "            log_likelihoods.append(log_likelihood)\n",
    "\n",
    "            if log_likelihood < prev_log_likelihood:\n",
    "                break\n",
    "\n",
    "            prev_log_likelihood = log_likelihood\n",
    "\n",
    "        plt.plot(log_likelihoods)\n",
    "        plt.xlabel('Iteración')\n",
    "        plt.ylabel('Log-verosimilitud')\n",
    "        plt.title('Log-verosimilitud vs. Iteración')\n",
    "        plt.show()\n",
    "\n",
    "        return self\n",
    "\n",
    "    def _compute_log_likelihood(self, X):\n",
    "        log_likelihood = np.zeros((self.n_samples, self.n_components))\n",
    "\n",
    "        for k in range(self.n_components):\n",
    "            Psi_inv = np.diag(1 / self.psi_[k])\n",
    "            W = self.loadings_[k]\n",
    "            L = W.T @ Psi_inv @ W + np.eye(self.n_latents)\n",
    "            cov_inv = Psi_inv - Psi_inv @ W @ np.linalg.inv(L) @ W.T @ Psi_inv\n",
    "\n",
    "            log_det = np.sum(np.log(self.psi_[k])) + np.log(np.linalg.det(L))\n",
    "\n",
    "            X_centered = X - self.means_[:, k].reshape(self.n_features, 1)\n",
    "            quad = np.sum(X_centered.T @ cov_inv * X_centered.T, axis=1)\n",
    "            log_likelihood[:, k] = np.log(self.weights_[k]) - 0.5 * (self.n_features * np.log(2 * np.pi) + log_det + quad)\n",
    "\n",
    "        return np.sum(logsumexp(log_likelihood, axis=1))\n",
    "\n",
    "    def get_weights(self):\n",
    "        return self.weights_\n",
    "\n",
    "    def get_means(self):\n",
    "        return self.means_\n",
    "\n",
    "    def get_loadings(self):\n",
    "        return self.loadings_\n",
    "\n",
    "    def get_noise_covariances(self):\n",
    "        return self.psi_\n",
    "\n"
   ]
  },
  {
   "cell_type": "markdown",
   "id": "27d0925a-bc81-4fd6-a10e-ae9489ef76c8",
   "metadata": {
    "id": "27d0925a-bc81-4fd6-a10e-ae9489ef76c8"
   },
   "source": [
    "## Conjunto de datos: Labeled Faces in the Wild"
   ]
  },
  {
   "cell_type": "code",
   "execution_count": 5,
   "id": "zXRRbbucivw4",
   "metadata": {
    "colab": {
     "base_uri": "https://localhost:8080/"
    },
    "id": "zXRRbbucivw4",
    "outputId": "f2b256e4-2a76-4fd6-b664-055ef6f32846"
   },
   "outputs": [
    {
     "name": "stdout",
     "output_type": "stream",
     "text": [
      "Drive already mounted at /content/drive; to attempt to forcibly remount, call drive.mount(\"/content/drive\", force_remount=True).\n"
     ]
    }
   ],
   "source": [
    "import numpy as np\n",
    "import imageio.v3 as iio\n",
    "import os\n",
    "from google.colab import drive\n",
    "\n",
    "drive.mount('/content/drive')\n",
    "dirname = '/content/drive/MyDrive/faces/faces'\n",
    "\n",
    "sizeimages = 168\n",
    "\n",
    "# Obtener todos los ficheros .jpg o .jpeg del directorio\n",
    "jpg_files = [f for f in os.listdir(dirname) if f.lower().endswith('.jpg') or f.lower().endswith('.jpeg')]\n",
    "sum_of_files = len(jpg_files)\n",
    "\n",
    "# Inicializar la matriz X para almacenar las imágenes aplanadas\n",
    "X = np.zeros(shape=(sizeimages ** 2, sum_of_files))\n",
    "\n",
    "# Leer todas las imágenes y almacenarlas en la matriz X\n",
    "for i, jpg_file in enumerate(jpg_files):\n",
    "    file_path = os.path.join(dirname, jpg_file)\n",
    "    image = iio.imread(file_path).reshape(sizeimages ** 2)\n",
    "    X[:, i] = image"
   ]
  },
  {
   "cell_type": "code",
   "execution_count": 6,
   "id": "8c4a29e2-596e-4751-88f6-e1e95d5946c0",
   "metadata": {
    "colab": {
     "base_uri": "https://localhost:8080/",
     "height": 102
    },
    "id": "8c4a29e2-596e-4751-88f6-e1e95d5946c0",
    "outputId": "d00732a5-69af-4ce3-ef59-078646879a23"
   },
   "outputs": [
    {
     "data": {
      "image/png": "[encoded data removed]",
      "text/plain": [
       "<Figure size 1000x200 with 10 Axes>"
      ]
     },
     "metadata": {},
     "output_type": "display_data"
    }
   ],
   "source": [
    "images = X.T\n",
    "fig, axs = plt.subplots(1, 10, figsize=(10,2))\n",
    "for i in range(10):\n",
    "    axs[i].set_axis_off()\n",
    "    axs[i].imshow(images[i].reshape((sizeimages,sizeimages)), cmap='gray')"
   ]
  },
  {
   "cell_type": "markdown",
   "id": "be196129-c867-4fc2-82b2-22d67decd7c2",
   "metadata": {
    "id": "be196129-c867-4fc2-82b2-22d67decd7c2"
   },
   "source": [
    "### Reducción de dimensionalidad.\n",
    "\n",
    "Las imágenes tienen una dimensión de 28224, por lo que la ejecución del código directamente sobre ellas requiere muchísimo tiempo. Para intentar solventarlo, podemos reducir la dimensionalidad de los datos de entrada utilizando PCA"
   ]
  },
  {
   "cell_type": "code",
   "execution_count": 10,
   "id": "c0762e2b-a51a-433f-a5b8-2b56a6186e5d",
   "metadata": {
    "colab": {
     "base_uri": "https://localhost:8080/"
    },
    "id": "c0762e2b-a51a-433f-a5b8-2b56a6186e5d",
    "outputId": "01a7f493-3673-47e7-bc7b-94c483a5035d"
   },
   "outputs": [
    {
     "name": "stdout",
     "output_type": "stream",
     "text": [
      "La dimensión de los datos reducidos es  848\n"
     ]
    }
   ],
   "source": [
    "from sklearn.decomposition import PCA\n",
    "\n",
    "X = (images.reshape(-1, sizeimages **2).astype(np.float64) / 255.0).T\n",
    "pca = PCA(n_components=0.99)  # Mantener el 99% de la varianza.\n",
    "X_reducido = pca.fit_transform(X.T).T\n",
    "\n",
    "print('La dimensión de los datos reducidos es ', X_reducido.shape[0])"
   ]
  },
  {
   "cell_type": "markdown",
   "id": "66814ecb-8adc-4c1a-b32d-cbbe93bfc1c9",
   "metadata": {
    "id": "66814ecb-8adc-4c1a-b32d-cbbe93bfc1c9"
   },
   "source": [
    "### 70 componentes y 3 factores. Parece funcionar bastante bien."
   ]
  },
  {
   "cell_type": "code",
   "execution_count": 11,
   "id": "195b7f82-6899-441f-b5d2-50e81b1b44e6",
   "metadata": {
    "colab": {
     "base_uri": "https://localhost:8080/",
     "height": 333
    },
    "id": "195b7f82-6899-441f-b5d2-50e81b1b44e6",
    "outputId": "e477449e-f2dc-46db-bfe1-47fc889b927b"
   },
   "outputs": [
    {
     "ename": "ValueError",
     "evalue": "matmul: Input operand 1 has a mismatch in its core dimension 0, with gufunc signature (n?,k),(k,m?)->(n?,m?) (size 1861 is different from 3)",
     "output_type": "error",
     "traceback": [
      "\u001b[0;31m---------------------------------------------------------------------------\u001b[0m",
      "\u001b[0;31mValueError\u001b[0m                                Traceback (most recent call last)",
      "\u001b[0;32m<ipython-input-11-d975a1c8c3ac>\u001b[0m in \u001b[0;36m<cell line: 4>\u001b[0;34m()\u001b[0m\n\u001b[1;32m      2\u001b[0m \u001b[0mn_latents\u001b[0m \u001b[0;34m=\u001b[0m \u001b[0;36m3\u001b[0m \u001b[0;31m# 4\u001b[0m\u001b[0;34m\u001b[0m\u001b[0;34m\u001b[0m\u001b[0m\n\u001b[1;32m      3\u001b[0m \u001b[0mmfa\u001b[0m \u001b[0;34m=\u001b[0m \u001b[0mMixtureFA\u001b[0m\u001b[0;34m(\u001b[0m\u001b[0mn_components\u001b[0m\u001b[0;34m=\u001b[0m\u001b[0mn_components\u001b[0m\u001b[0;34m,\u001b[0m \u001b[0mn_latents\u001b[0m\u001b[0;34m=\u001b[0m\u001b[0mn_latents\u001b[0m\u001b[0;34m,\u001b[0m \u001b[0mmax_iter\u001b[0m\u001b[0;34m=\u001b[0m\u001b[0;36m30\u001b[0m\u001b[0;34m,\u001b[0m \u001b[0mtol\u001b[0m\u001b[0;34m=\u001b[0m\u001b[0;36m1e-3\u001b[0m\u001b[0;34m)\u001b[0m\u001b[0;34m\u001b[0m\u001b[0;34m\u001b[0m\u001b[0m\n\u001b[0;32m----> 4\u001b[0;31m \u001b[0mmfa\u001b[0m\u001b[0;34m.\u001b[0m\u001b[0mfit\u001b[0m\u001b[0;34m(\u001b[0m\u001b[0mX_reducido\u001b[0m\u001b[0;34m)\u001b[0m\u001b[0;34m\u001b[0m\u001b[0;34m\u001b[0m\u001b[0m\n\u001b[0m",
      "\u001b[0;32m<ipython-input-9-6295c2752d3e>\u001b[0m in \u001b[0;36mfit\u001b[0;34m(self, X)\u001b[0m\n\u001b[1;32m    116\u001b[0m \u001b[0;34m\u001b[0m\u001b[0m\n\u001b[1;32m    117\u001b[0m         \u001b[0;32mfor\u001b[0m \u001b[0miteration\u001b[0m \u001b[0;32min\u001b[0m \u001b[0mrange\u001b[0m\u001b[0;34m(\u001b[0m\u001b[0mself\u001b[0m\u001b[0;34m.\u001b[0m\u001b[0mmax_iter\u001b[0m\u001b[0;34m)\u001b[0m\u001b[0;34m:\u001b[0m\u001b[0;34m\u001b[0m\u001b[0;34m\u001b[0m\u001b[0m\n\u001b[0;32m--> 118\u001b[0;31m             \u001b[0mlog_resp\u001b[0m\u001b[0;34m,\u001b[0m \u001b[0mexpected_z\u001b[0m\u001b[0;34m,\u001b[0m \u001b[0mexpected_zz\u001b[0m \u001b[0;34m=\u001b[0m \u001b[0mself\u001b[0m\u001b[0;34m.\u001b[0m\u001b[0m_e_step\u001b[0m\u001b[0;34m(\u001b[0m\u001b[0mX\u001b[0m\u001b[0;34m)\u001b[0m\u001b[0;34m\u001b[0m\u001b[0;34m\u001b[0m\u001b[0m\n\u001b[0m\u001b[1;32m    119\u001b[0m             \u001b[0;32mif\u001b[0m \u001b[0;34m(\u001b[0m\u001b[0miteration\u001b[0m \u001b[0;34m%\u001b[0m \u001b[0;36m5\u001b[0m \u001b[0;34m==\u001b[0m \u001b[0;36m0\u001b[0m\u001b[0;34m)\u001b[0m\u001b[0;34m:\u001b[0m\u001b[0;34m\u001b[0m\u001b[0;34m\u001b[0m\u001b[0m\n\u001b[1;32m    120\u001b[0m                 \u001b[0mprint\u001b[0m\u001b[0;34m(\u001b[0m\u001b[0;34m'Fin paso E:'\u001b[0m\u001b[0;34m,\u001b[0m \u001b[0miteration\u001b[0m\u001b[0;34m)\u001b[0m\u001b[0;34m\u001b[0m\u001b[0;34m\u001b[0m\u001b[0m\n",
      "\u001b[0;32m<ipython-input-9-6295c2752d3e>\u001b[0m in \u001b[0;36m_e_step\u001b[0;34m(self, X)\u001b[0m\n\u001b[1;32m     60\u001b[0m             \u001b[0;31m# Corregir la fórmula de la esperanza de zz.T\u001b[0m\u001b[0;34m\u001b[0m\u001b[0;34m\u001b[0m\u001b[0m\n\u001b[1;32m     61\u001b[0m             \u001b[0;31m# Proyectamos X_centered al espacio latente utilizando cov_factors\u001b[0m\u001b[0;34m\u001b[0m\u001b[0;34m\u001b[0m\u001b[0m\n\u001b[0;32m---> 62\u001b[0;31m             \u001b[0mX_proj\u001b[0m \u001b[0;34m=\u001b[0m \u001b[0mcov_factors\u001b[0m \u001b[0;34m@\u001b[0m \u001b[0mX_centered\u001b[0m\u001b[0;34m.\u001b[0m\u001b[0mT\u001b[0m  \u001b[0;31m# Esto tiene dimensiones (3, n_samples)\u001b[0m\u001b[0;34m\u001b[0m\u001b[0;34m\u001b[0m\u001b[0m\n\u001b[0m\u001b[1;32m     63\u001b[0m \u001b[0;34m\u001b[0m\u001b[0m\n\u001b[1;32m     64\u001b[0m             \u001b[0;31m# Luego calculamos la esperanza de zz.T\u001b[0m\u001b[0;34m\u001b[0m\u001b[0;34m\u001b[0m\u001b[0m\n",
      "\u001b[0;31mValueError\u001b[0m: matmul: Input operand 1 has a mismatch in its core dimension 0, with gufunc signature (n?,k),(k,m?)->(n?,m?) (size 1861 is different from 3)"
     ]
    }
   ],
   "source": [
    "n_components = 70 # 30\n",
    "n_latents = 3 # 4\n",
    "mfa = MixtureFA(n_components=n_components, n_latents=n_latents, max_iter=30, tol=1e-3)\n",
    "mfa.fit(X_reducido)"
   ]
  },
  {
   "cell_type": "markdown",
   "id": "b5a7acfc-a87f-490d-ac64-04b521059a1b",
   "metadata": {
    "id": "b5a7acfc-a87f-490d-ac64-04b521059a1b"
   },
   "source": [
    "Nuestro MFA ha trabajado en el espacio reducido por lo que ahora tenemos que transformar los factores y covarianzas obtenidos al espacio original. Para ello utilizamos el método `inverse_transform` que, dadas coordenadas en el espacio reducido, devuelve las correspondientes en el espacio original."
   ]
  },
  {
   "cell_type": "code",
   "execution_count": null,
   "id": "ca13a815-b56b-4902-b875-56fd976d2665",
   "metadata": {
    "id": "ca13a815-b56b-4902-b875-56fd976d2665"
   },
   "outputs": [],
   "source": [
    "mu = pca.inverse_transform(mfa.get_means())\n",
    "Psi_small = mfa.get_noise_covariances()\n",
    "W_small = mfa.get_loadings()\n",
    "Psi = np.zeros((n_components,sizeimages**2))\n",
    "W = np.zeros((n_components,sizeimages**2,n_latents))\n",
    "for i in range(n_components):\n",
    "    Psi[i] = pca.inverse_transform(Psi_small[i].reshape(1,-1)).reshape(sizeimages**2)\n",
    "    W[i] = pca.inverse_transform(W_small[i].reshape(1,-1)).reshape(sizeimages**2,n_latents)\n",
    "\n",
    "W.shape, Psi.shape"
   ]
  },
  {
   "cell_type": "markdown",
   "id": "1d548d17-855d-48fd-b857-18a889fc9f74",
   "metadata": {
    "id": "1d548d17-855d-48fd-b857-18a889fc9f74"
   },
   "source": [
    "### Figura 28.12 (b) de Murphy."
   ]
  },
  {
   "cell_type": "code",
   "execution_count": null,
   "id": "5032860c-a8c2-4953-97b0-5dcb62d3fa10",
   "metadata": {
    "id": "5032860c-a8c2-4953-97b0-5dcb62d3fa10"
   },
   "outputs": [],
   "source": [
    "num_grid = 6\n",
    "grid = np.linspace(-1,1, num=num_grid)\n",
    "comp = 9\n",
    "\n",
    "fig, axs = plt.subplots(num_grid, num_grid, figsize=(num_grid*1.5,num_grid*1.5))\n",
    "for i, zi in enumerate(grid):\n",
    "    for j, zj in enumerate(grid):\n",
    "        axs[i,j].set_axis_off()\n",
    "        combination = mu[comp] + zi*W[comp,:,1] + zj*W[comp,:,0]\n",
    "        axs[i,j].imshow(combination.reshape((sizeimages,sizeimages)), cmap='gray')"
   ]
  },
  {
   "cell_type": "markdown",
   "id": "ad12bd1c-bbfb-4a8a-838f-185194f90bec",
   "metadata": {
    "id": "ad12bd1c-bbfb-4a8a-838f-185194f90bec"
   },
   "source": [
    "### Figura 28.12 (a) de Murphy."
   ]
  },
  {
   "cell_type": "code",
   "execution_count": null,
   "id": "6e08c3b9-6ad9-47f3-a455-85e437043f8b",
   "metadata": {
    "id": "6e08c3b9-6ad9-47f3-a455-85e437043f8b"
   },
   "outputs": [],
   "source": [
    "num_grid = 4\n",
    "comps = np.array([1, 9])\n",
    "\n",
    "fig, axs = plt.subplots(2, 6, figsize=(10, num_grid*1.5))\n",
    "plt.axis('off')\n",
    "for i in range(2):\n",
    "    for j in range(2):\n",
    "        axs[i,2*j+ (j% 2)].imshow(mu[comps[j]].reshape((sizeimages,sizeimages)) - W[comps[j],:,i].reshape((sizeimages,sizeimages)), cmap='gray')\n",
    "        axs[i,2*j+ 1+ (j % 2)].imshow(0.5 + W[comps[j],:,i].reshape((sizeimages,sizeimages)), cmap='gray')\n",
    "        axs[i,2*j+ 2+(j % 2)].imshow(mu[comps[j]].reshape((sizeimages,sizeimages)) + W[comps[j],:,i].reshape((sizeimages,sizeimages)), cmap='gray')"
   ]
  },
  {
   "cell_type": "code",
   "execution_count": null,
   "id": "e42fd993-d217-4cc8-91a5-125c2bcf4f1c",
   "metadata": {
    "id": "e42fd993-d217-4cc8-91a5-125c2bcf4f1c"
   },
   "outputs": [],
   "source": [
    "fig, axs = plt.subplots(6, 10, figsize=(10, 10))\n",
    "plt.axis('off')\n",
    "for i in range(6):\n",
    "    for j in range(10):\n",
    "        axs[i,j].imshow(mu[i*10+j].reshape((sizeimages,sizeimages)), cmap='gray')\n"
   ]
  },
  {
   "cell_type": "markdown",
   "id": "8c0f84cc-9d82-4d22-9ed7-1840a16fbd1b",
   "metadata": {
    "id": "8c0f84cc-9d82-4d22-9ed7-1840a16fbd1b"
   },
   "source": [
    "### Ahora muestreamos (figura 28.11)."
   ]
  },
  {
   "cell_type": "markdown",
   "id": "f17e3584-e0ec-4570-8c6a-539b7b4246dc",
   "metadata": {
    "id": "f17e3584-e0ec-4570-8c6a-539b7b4246dc"
   },
   "source": [
    "Al ser la dimensión elevada, para evitar errores numéricos y mejorar la eficiencia en lugar de utilizar un método predefinido como `multivariate_normal` para muestrear vamos a implementar un método directo que muestrea de una distribución normal estándar (la media es 0 y la covarianza es la identidad) y transforma el resultado en una muestra de la normal que nos interesa."
   ]
  },
  {
   "cell_type": "code",
   "execution_count": null,
   "id": "7d01b0d5-83e5-4416-be8f-eb9b6a46347d",
   "metadata": {
    "id": "7d01b0d5-83e5-4416-be8f-eb9b6a46347d"
   },
   "outputs": [],
   "source": [
    "def fast_multivariate_normal_diagonal(mean, cov_diag, size=1):\n",
    "    dim = len(mean)\n",
    "    std_dev = np.sqrt(cov_diag)\n",
    "    Z = np.random.standard_normal((dim, size))\n",
    "    return mean.reshape(-1, 1) + std_dev.reshape(-1, 1) * Z"
   ]
  },
  {
   "cell_type": "markdown",
   "id": "4c9b4d4b-f810-4ca2-9dba-68896e49e211",
   "metadata": {
    "id": "4c9b4d4b-f810-4ca2-9dba-68896e49e211"
   },
   "source": [
    "Definimos una función para muestrear de MFA, similar a la hicimos en su momento para PPCA y FA."
   ]
  },
  {
   "cell_type": "code",
   "execution_count": null,
   "id": "a363363b-c87a-4a4f-a354-f04c2bb26a58",
   "metadata": {
    "id": "a363363b-c87a-4a4f-a354-f04c2bb26a58"
   },
   "outputs": [],
   "source": [
    "def sampleMFA(weights, mu, W, Psi, n_samples=1, ks=None):\n",
    "    rng = np.random.default_rng()\n",
    "    n_components = weights.shape[0]\n",
    "\n",
    "    # Muestrear componente.\n",
    "    if not(isinstance(ks, np.ndarray)):\n",
    "        ks = rng.choice(n_components, n_samples, p=weights)\n",
    "\n",
    "    # Muestrear del espacio reducido.\n",
    "    z = rng.standard_normal((W.shape[2], n_samples)).T\n",
    "\n",
    "    n_features = W.shape[1]\n",
    "    X_sampled = np.zeros((n_features, n_samples))\n",
    "    for i in range(n_samples):\n",
    "        # Construir normal y generar muestras.\n",
    "        mean = ...\n",
    "        X_sampled[:,i] = fast_multivariate_normal_diagonal(..., ...).flatten()\n",
    "\n",
    "    return X_sampled"
   ]
  },
  {
   "cell_type": "code",
   "execution_count": null,
   "id": "fd3eac2e-7fb5-4aa4-a407-25d328b2d612",
   "metadata": {
    "id": "fd3eac2e-7fb5-4aa4-a407-25d328b2d612"
   },
   "outputs": [],
   "source": [
    "n_samples = 5\n",
    "weights = mfa.get_weights()\n",
    "comps = np.ones(n_samples, dtype='int') * 9\n",
    "sampleX = sampleMFA(weights, mu, W, Psi, n_samples, comps)"
   ]
  },
  {
   "cell_type": "code",
   "execution_count": null,
   "id": "dec605fa-8308-4bb4-8c28-ac6298ebf646",
   "metadata": {
    "id": "dec605fa-8308-4bb4-8c28-ac6298ebf646"
   },
   "outputs": [],
   "source": [
    "fig, axs = plt.subplots(1, n_samples, figsize=(10, num_grid*1.5))\n",
    "plt.axis('off')\n",
    "for i in range(n_samples):\n",
    "    axs[i].set_axis_off()\n",
    "    axs[i].imshow(sampleX[:,i].reshape((sizeimages,sizeimages)), cmap='gray')"
   ]
  },
  {
   "cell_type": "markdown",
   "id": "b4079db2-478c-4d80-8780-c2a8030f2679",
   "metadata": {
    "id": "b4079db2-478c-4d80-8780-c2a8030f2679"
   },
   "source": [
    "### Cuestiones\n",
    "Comenta brevemente los aspectos que te hayan parecido más destacados de este ejercicio."
   ]
  },
  {
   "cell_type": "markdown",
   "id": "JWmgju7Kb4zT",
   "metadata": {
    "id": "JWmgju7Kb4zT"
   },
   "source": [
    "### Aspectos destacados del ejercicio:\n",
    "\n",
    "1. **Reducción de dimensionalidad con PCA**:  \n",
    "   - Las imágenes tienen 28,224 dimensiones. Para hacer el modelo más eficiente, se utiliza PCA para reducir a 70 componentes, lo que mejora el tiempo de cálculo y la estabilidad numérica.\n",
    "\n",
    "2. **Algoritmo EM (Esperanza-Maximización)**:  \n",
    "   - En el paso **E**, se calculan las responsabilidades y las esperanzas de los factores latentes.  \n",
    "   - En el paso **M**, se actualizan los parámetros del modelo, como \\(W\\) y \\(\\mu\\), usando las expectativas calculadas.\n",
    "\n",
    "3. **Transformación al espacio original**:  \n",
    "   - Después de reducir la dimensionalidad, se transforman los factores y covarianzas de vuelta al espacio original usando `inverse_transform`, para generar muestras en el espacio original.\n",
    "\n",
    "4. **Muestreo directo**:  \n",
    "   - Se implementa un muestreo directo de una distribución normal estándar, evitando errores numéricos y mejorando la eficiencia en lugar de usar métodos predefinidos como `multivariate_normal`.\n",
    "\n",
    "5. **Complejidad y precisión**:  \n",
    "   - La implementación del modelo de mezcla de analizadores de factores es compleja, pero la reducción de dimensionalidad y el muestreo personalizado optimizan su eficiencia.\n"
   ]
  },
  {
   "cell_type": "code",
   "execution_count": null,
   "id": "44343404-1cb2-466f-bc7f-d7e7581c30ef",
   "metadata": {
    "id": "44343404-1cb2-466f-bc7f-d7e7581c30ef"
   },
   "outputs": [],
   "source": []
  }
 ],
 "metadata": {
  "colab": {
   "provenance": []
  },
  "kernelspec": {
   "display_name": "Python 3 (ipykernel)",
   "language": "python",
   "name": "python3"
  },
  "language_info": {
   "codemirror_mode": {
    "name": "ipython",
    "version": 3
   },
   "file_extension": ".py",
   "mimetype": "text/x-python",
   "name": "python",
   "nbconvert_exporter": "python",
   "pygments_lexer": "ipython3",
   "version": "3.12.2"
  }
 },
 "nbformat": 4,
 "nbformat_minor": 5
}
