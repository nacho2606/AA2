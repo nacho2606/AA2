{
 "cells": [
  {
   "cell_type": "markdown",
   "id": "9de818a6-e760-4779-9557-5deeecd3a652",
   "metadata": {},
   "source": [
    "# Resumen del Contenido\r\n",
    "\r\n",
    "## Series Temporales\r\n",
    "Introducción a las series temporales y su importancia en áreas como biología, finanzas y planificación.\r\n",
    "\r\n",
    "## Modelos de Markov\r\n",
    "- Explicación de los modelos de Markov y su descomposición probabilística.\r\n",
    "- Introducción a cadenas de Markov de primer y segundo orden, así como la diferenciación entre cadenas estacionarias y no estacionarias.\r\n",
    "\r\n",
    "## Modelos Ocultos de Markov (HMM)\r\n",
    "- Los HMM modelan una cadena de variables ocultas dependientes y variables observables asociadas a través de distribuciones de emisión.\r\n",
    "- Se definen parámetros como la matriz de transición, matriz de emisión y distribución inicial.\r\n",
    "\r\n",
    "## Problemas Clásicos de Inferencia\r\n",
    "- **Filtrado**: Estimación del estado actual dado el pasado observado.\r\n",
    "- **Predicción**: Estimación del futuro estado u observación.\r\n",
    "- **Suavizado**: Estimación de estados pasados dados todos los datos observados.\r\n",
    "- **Cálculo del Likelihood**: Probabilidad de los datos observados bajo el modelo.\r\n",
    "- **Camino más probable**: Determinación del camino de estados ocultos más probable (algoritmo de Viterbi).\r\n",
    "\r\n",
    "## Aprendizaje de HMM\r\n",
    "- Uso del algoritmo **EM (Baum-Welch)** para ajustar los parámetros del modelo a los datos observados.\r\n",
    "- Métodos para inicializar los parámetros y extender el modelo a observaciones continuas.\r\n",
    "\r\n",
    "## Casos de Estudio\r\n",
    "- **Localización de un ladrón en una cuadrícula**: Utilización de información como \"crujidos\" o \"golpes\" para inferir su posición.\r\n",
    "\r\n",
    "## HMM con Emisión Mixta y GMM\r\n",
    "- Modelos más ricos, como las emisiones de mezclas gaussianas (**HMM-GMM**), utilizados en aplicaciones como reconocimiento de voz y detección de anomalías.\r\n",
    "\r\n",
    "## Entrenamiento Discriminativo\r\n",
    "- Uso de HMM en tareas supervisadas, como clasificación de secuencias, comparando enfoquesgenerativos y discriminativos.\r\n"
   ]
  },
  {
   "cell_type": "code",
   "execution_count": 1,
   "id": "79341a79-a072-4a89-bd62-1bcb007b4d4c",
   "metadata": {
    "executionInfo": {
     "elapsed": 450,
     "status": "ok",
     "timestamp": 1732013018808,
     "user": {
      "displayName": "IGNACIO GUTIÉRREZ SÁNCHEZ",
      "userId": "01595325672483733798"
     },
     "user_tz": -60
    },
    "id": "79341a79-a072-4a89-bd62-1bcb007b4d4c",
    "tags": []
   },
   "outputs": [],
   "source": [
    "import numpy as np\n",
    "from scipy.special import logsumexp\n",
    "import matplotlib.pyplot as plt"
   ]
  },
  {
   "cell_type": "markdown",
   "id": "b275e2d1-2f05-4408-b987-2236826196c4",
   "metadata": {
    "id": "b275e2d1-2f05-4408-b987-2236826196c4"
   },
   "source": [
    "## Modelos ocultos de Markov.\n",
    "\n",
    "Se define una clase HMM que implementa las principales funciones asociadas a un HMM: algoritmo \"forward\", \"backward\", suavizado y Viterbi."
   ]
  },
  {
   "cell_type": "code",
   "execution_count": 2,
   "id": "249bdb22-64ab-4643-ac82-e64ac7c21fe4",
   "metadata": {
    "executionInfo": {
     "elapsed": 236,
     "status": "ok",
     "timestamp": 1732014657842,
     "user": {
      "displayName": "IGNACIO GUTIÉRREZ SÁNCHEZ",
      "userId": "01595325672483733798"
     },
     "user_tz": -60
    },
    "id": "249bdb22-64ab-4643-ac82-e64ac7c21fe4"
   },
   "outputs": [],
   "source": [
    "class HMM:\n",
    "    def __init__(self, phghm, ph1, pvgh, eps=1e-10):\n",
    "        \"\"\"\n",
    "        phghm : distribución de transiciones homogéneas phghm(i,j)=p(h(t)=i|h(t-1)=j) (Matriz de transiciones)\n",
    "        ph1 : distribución inicial\n",
    "        pvgh : distribución de emisión homogénea pvgh(i,j)=p(v(t)=i|h(t)=j) (Matriz de emisiones)\n",
    "        \"\"\"\n",
    "\n",
    "        self.phghm = phghm + eps\n",
    "        self.ph1 = ph1\n",
    "        self.pvgh = pvgh + eps\n",
    "        self.H = len(ph1)\n",
    "\n",
    "    def forward(self, v):\n",
    "        \"\"\"\n",
    "        Calcula los mensajes forward p(h(t), v(1:t)).\n",
    "\n",
    "        Args:\n",
    "        v: Secuencia de observaciones.\n",
    "\n",
    "        Returns:\n",
    "        logalpha: Matriz de log(p(h(t), v(1:t))). (Probabilidades hacia adelante)\n",
    "        loglik: Log-verosimilitud de la secuencia observada. (Logaritmo de la probabilidad total de observar la secuencia v)\n",
    "        \"\"\"\n",
    "        T, H = len(v), self.H\n",
    "        logalpha = np.zeros((H, T))\n",
    "\n",
    "        # Inicialización en el instante 0\n",
    "        logalpha[:, 0] = np.log(self.ph1) + np.log(self.pvgh[v[0], :])\n",
    "\n",
    "        # Recursión, t>0\n",
    "        for t in range(1, T):\n",
    "            for h in range(H):\n",
    "                logalpha[h, t] = np.log(self.pvgh[v[t], h]) + logsumexp(\n",
    "                    logalpha[:, t-1] + np.log(self.phghm[h, :])\n",
    "                )\n",
    "\n",
    "\n",
    "        return np.exp(logalpha), logsumexp(logalpha[:, T-1])\n",
    "\n",
    "    def backward(self, v):\n",
    "        \"\"\"\n",
    "        Entrada:\n",
    "        # v : valores observados\n",
    "\n",
    "        Salida:\n",
    "        p(v(t+1:T)|h(t))\n",
    "        \"\"\"\n",
    "\n",
    "        phghm, ph1, pvgh = self.phghm, self.ph1, self.pvgh\n",
    "        T, H = len(v), self.H\n",
    "        logbeta = np.zeros((H, T))\n",
    "\n",
    "        # Inicialización en el instante T-1 (en el ultimo instante t=T-1 -> beta=1 porque no hay observaciones futuras, \n",
    "        #pero como se usan logaritmos log(beta=1)=0)\n",
    "        logbeta[:, T-1] = 0  # log(1) = 0\n",
    "\n",
    "        # Recursión inversa\n",
    "        for t in range(T-2, -1, -1):\n",
    "            for h in range(H):\n",
    "                logbeta[h, t] = logsumexp(\n",
    "                    np.log(self.phghm[:, h]) + np.log(self.pvgh[v[t+1], :]) + logbeta[:, t+1]\n",
    "                )\n",
    "\n",
    "        return np.exp(logbeta)\n",
    "\n",
    "    def smooth(self, v):\n",
    "        \"\"\"\n",
    "        Entrada:\n",
    "        v : valores observados\n",
    "\n",
    "        Salida:\n",
    "        p(h(t)|v(1:T)) : Probabilidad posterior de los estados ocultos individuales en cada instante de tiempo\n",
    "        p(h(t),h(t+1)|v(1:T)) : Probabilidad posterior conjunta de dos estados consecutivos\n",
    "        llik : log-verosimilitud de la secuencia log p(v(1:T))\n",
    "        \"\"\"\n",
    "        logalpha, loglik = self.forward(v)\n",
    "        logbeta = self.backward(v)\n",
    "        T, H = len(v), self.H\n",
    "\n",
    "        # p(h(t) | v(1:T))\n",
    "        logphtgV1T = logalpha + logbeta - loglik\n",
    "        phtgV1T = np.exp(logphtgV1T)\n",
    "\n",
    "        # p(h(t), h(t+1) | v(1:T))\n",
    "        phthtgV1T = np.zeros((H, H, T-1))\n",
    "        for t in range(T-1):\n",
    "            for h1 in range(H):\n",
    "                for h2 in range(H):\n",
    "                    phthtgV1T[h1, h2, t] = np.exp(\n",
    "                        logalpha[h1, t] + np.log(self.phghm[h2, h1]) + np.log(self.pvgh[v[t+1], h2]) + logbeta[h2, t+1] - loglik\n",
    "                    )\n",
    "\n",
    "        return phtgV1T, phthtgV1T, loglik\n",
    "\n",
    "\n",
    "    # Esta es la versión del libro de Barber. Viterbi : Most likely Hidden path\n",
    "    def viterbi(self, v):\n",
    "        \"\"\"\n",
    "        Calcula la secuencia más probable usando el algoritmo de Viterbi.\n",
    "\n",
    "        Args:\n",
    "        v: Secuencia de observaciones.\n",
    "\n",
    "        Returns:\n",
    "        path: Secuencia más probable de estados ocultos.\n",
    "        \"\"\"\n",
    "        T, H = len(v), self.H\n",
    "        logdelta = np.zeros((H, T))\n",
    "        psi = np.zeros((H, T), dtype=int)\n",
    "\n",
    "        # Inicialización\n",
    "        logdelta[:, 0] = np.log(self.ph1) + np.log(self.pvgh[v[0], :])\n",
    "\n",
    "        # Recursión\n",
    "        for t in range(1, T):\n",
    "            for h in range(H):\n",
    "                # Calcular los candidatos para h(t) desde todos los h(t-1)\n",
    "                candidates = logdelta[:, t-1] + np.log(self.phghm[h, :])\n",
    "                logdelta[h, t] = np.max(candidates) # Mejor probabilidad acumulada\n",
    "                psi[h, t] = np.argmax(candidates)  # Mejor estado previo\n",
    "                logdelta[h, t] += np.log(self.pvgh[v[t], h]) # Añadir emisión\n",
    "\n",
    "        # Backtracking, Comienza en el último tiempo T - 1\n",
    "        path = np.zeros(T, dtype=int)\n",
    "        path[T-1] = np.argmax(logdelta[:, T-1])\n",
    "        for t in range(T-2, -1, -1):\n",
    "            path[t] = psi[path[t+1], t+1]\n",
    "\n",
    "        return path\n"
   ]
  },
  {
   "cell_type": "code",
   "execution_count": 3,
   "id": "7ce07d92-a0a4-48dd-897a-82542d615572",
   "metadata": {
    "colab": {
     "base_uri": "https://localhost:8080/"
    },
    "executionInfo": {
     "elapsed": 222,
     "status": "ok",
     "timestamp": 1732014662625,
     "user": {
      "displayName": "IGNACIO GUTIÉRREZ SÁNCHEZ",
      "userId": "01595325672483733798"
     },
     "user_tz": -60
    },
    "id": "7ce07d92-a0a4-48dd-897a-82542d615572",
    "outputId": "1ef8cd21-8864-4689-cbd5-00afb83b5ca2"
   },
   "outputs": [
    {
     "name": "stdout",
     "output_type": "stream",
     "text": [
      "Alfa:\n",
      " (array([[0.42     , 0.132    , 0.0678   , 0.03417  , 0.0137004],\n",
      "       [0.12     , 0.144    , 0.0696   , 0.03444  , 0.0205992]]), -3.3726215849005583)\n",
      "Beta:\n",
      " [[0.065668 0.1417   0.278    0.52     1.      ]\n",
      " [0.055992 0.1083   0.222    0.48     1.      ]]\n"
     ]
    }
   ],
   "source": [
    "# Ejemplo de uso:\n",
    "v = np.array([2, 1, 0, 0, 1])  # Secuencia observada de ejemplos\n",
    "phghm = np.array([[0.7, 0.3], [0.4, 0.6]])  # Matriz de transiciones de ejemplo\n",
    "ph1 = np.array([0.6, 0.4])  # Distribución inicial de ejemplo\n",
    "pvgh = np.array([[0.5, 0.5], [0.4, 0.6], [0.7, 0.3]])  # Matriz de emisión\n",
    "\n",
    "hmm = HMM(phghm, ph1, pvgh)\n",
    "alpha = hmm.forward(v)\n",
    "beta = hmm.backward(v)\n",
    "print(\"Alfa:\\n\", alpha)\n",
    "print(\"Beta:\\n\", beta)\n",
    "p1, p2, _ = hmm.smooth(v)"
   ]
  },
  {
   "cell_type": "markdown",
   "id": "eee57b8d-5baa-4acd-9e1b-62b63b505751",
   "metadata": {
    "id": "eee57b8d-5baa-4acd-9e1b-62b63b505751"
   },
   "source": [
    "Definimos algunas funciones auxiliares que se utilizarán en la simulación del robo."
   ]
  },
  {
   "cell_type": "code",
   "execution_count": 4,
   "id": "2779a2f9-3428-47aa-9886-8860d5fec307",
   "metadata": {
    "executionInfo": {
     "elapsed": 229,
     "status": "ok",
     "timestamp": 1732014775918,
     "user": {
      "displayName": "IGNACIO GUTIÉRREZ SÁNCHEZ",
      "userId": "01595325672483733798"
     },
     "user_tz": -60
    },
    "id": "2779a2f9-3428-47aa-9886-8860d5fec307"
   },
   "outputs": [],
   "source": [
    "def normalize(matrix, axis=0):\n",
    "    \"\"\"\n",
    "    Normaliza la matriz de entrada de manera que suma 1 a lo largo del eje especificado.\n",
    "    Con ello se transforman los valores en probabilidades.\n",
    "    \"\"\"\n",
    "    return matrix / np.sum(matrix, axis=axis, keepdims=True)\n"
   ]
  },
  {
   "cell_type": "markdown",
   "id": "0576c000-c4a9-4d6a-89fd-3b9404b2d64b",
   "metadata": {
    "id": "0576c000-c4a9-4d6a-89fd-3b9404b2d64b"
   },
   "source": [
    "### Ejemplo 23.3.\n",
    "\n",
    "Aplicamos nuestra clase al ejemplo del ladrón que aparece en el libro."
   ]
  },
  {
   "cell_type": "code",
   "execution_count": 5,
   "id": "75369ac0-222b-4655-969f-4e31d0701d04",
   "metadata": {
    "executionInfo": {
     "elapsed": 220,
     "status": "ok",
     "timestamp": 1732015143653,
     "user": {
      "displayName": "IGNACIO GUTIÉRREZ SÁNCHEZ",
      "userId": "01595325672483733798"
     },
     "user_tz": -60
    },
    "id": "75369ac0-222b-4655-969f-4e31d0701d04"
   },
   "outputs": [],
   "source": [
    "def demoHMMburglar():\n",
    "    Gx, Gy = 5, 5  # Dimensiones de la cuadrícula\n",
    "    H = Gx * Gy  # Número de estados en la cuadrícula\n",
    "\n",
    "    # Construir una matriz de transiciones determinista sobre la cuadrícula.\n",
    "    phgh = np.zeros((H, H))\n",
    "    for i in range(H):\n",
    "        row, col = divmod(i, Gx)\n",
    "        # Vecinos laterales\n",
    "        if col < Gx - 1:\n",
    "            phgh[i, i + 1] = 1\n",
    "            phgh[i + 1, i] = 1\n",
    "        # Vecinos verticales\n",
    "        if row < Gy - 1:\n",
    "            phgh[i, i + Gx] = 1\n",
    "            phgh[i + Gx, i] = 1\n",
    "\n",
    "    # Normalizar la matriz para que sus entradas sean probabilidades.\n",
    "    eps = 1e-6\n",
    "    phghm = phgh / phgh.sum(axis=0) + eps  # Asegurar que ninguna transición tenga probabilidad 0\n",
    "\n",
    "    # Distribución inicial uniforme\n",
    "    ph1 = np.ones(H) / H\n",
    "\n",
    "    # Probabilidades de emisión\n",
    "    pv1gh = np.random.choice([0.9, 0.1], size=H, p=[0.2, 0.8])  # Prob. de chirridos en 10 celdas\n",
    "    pv2gh = np.random.choice([0.9, 0.1], size=H, p=[0.2, 0.8])  # Prob. de golpes en 10 celdas\n",
    "\n",
    "    # Dibujar las distribuciones de probabilidad\n",
    "    plt.figure()\n",
    "    plt.subplot(1, 2, 1)\n",
    "    plt.imshow(pv1gh.reshape(Gx, Gy), vmin=-1, vmax=2, cmap='bone')\n",
    "    plt.axis('off')\n",
    "    plt.title('pv1gh: Chirridos en 10 celdas')\n",
    "\n",
    "    plt.subplot(1, 2, 2)\n",
    "    plt.imshow(pv2gh.reshape(Gx, Gy), vmin=-1, vmax=2, cmap='bone')\n",
    "    plt.axis('off')\n",
    "    plt.title('pv2gh: Golpes en 10 celdas')\n",
    "\n",
    "    plt.show()\n",
    "\n",
    "    # Construir la distribución conjunta p(v|h) = p(v1|h)p(v2|h):\n",
    "    pvgh = np.zeros((4, H))\n",
    "    vv = np.zeros((4, 2), dtype=int)\n",
    "    pvgh[0, :] = pv1gh * pv2gh\n",
    "    vv[0, :] = [1, 1]       # p(v1=1|h)*p(v2=1|h)\n",
    "    pvgh[1, :] = pv1gh * (1 - pv2gh)\n",
    "    vv[1, :] = [1, 0]       # p(v1=1|h)*p(v2=0|h)\n",
    "    pvgh[2, :] = (1 - pv1gh) * pv2gh\n",
    "    vv[2, :] = [0, 1]       # p(v1=0|h)*p(v2=1|h)\n",
    "    pvgh[3, :] = (1 - pv1gh) * (1 - pv2gh)\n",
    "    vv[3, :] = [0, 0]       # p(v1=0|h)*p(v2=0|h)\n",
    "\n",
    "    # Camino como en el libro.\n",
    "    T = 10\n",
    "    h = np.array([15, 16, 11, 6, 11, 10, 5, 0, 1, 2])  # Posiciones reales del ladrón\n",
    "    v = np.array([1, 2, 0, 3, 0, 3, 2, 2, 3, 3])       # Observaciones\n",
    "\n",
    "    # Inferencia basada en los valores v observados.\n",
    "    hmm = HMM(phghm, ph1, pvgh)\n",
    "\n",
    "    # Filtrado\n",
    "    phtgV1t, _ = hmm.forward(v)\n",
    "\n",
    "    # Suavizado\n",
    "    phtgV1T, _, _ = hmm.smooth(v)\n",
    "\n",
    "    # Camino más probable del ladrón usando Viterbi\n",
    "    maxstate = hmm.viterbi(v)\n",
    "\n",
    "    # Dibujar los resultados.\n",
    "    plt.figure(figsize=(15, 10))\n",
    "    for t in range(T):\n",
    "        # Observaciones\n",
    "        plt.subplot(5, T, t + 1)\n",
    "        plt.imshow(vv[v[t], :].reshape(1, -1), vmin=0, vmax=3, cmap='bone')\n",
    "        plt.axis('off')\n",
    "\n",
    "        # Posterior filtrada\n",
    "        plt.subplot(5, T, T + t + 1)\n",
    "        plt.imshow(phtgV1t[:, t].reshape(Gx, Gy), cmap='bone')\n",
    "        plt.axis('off')\n",
    "\n",
    "        # Posterior suavizada\n",
    "        plt.subplot(5, T, 2 * T + t + 1)\n",
    "        plt.imshow(phtgV1T[:, t].reshape(Gx, Gy), cmap='bone')\n",
    "        plt.axis('off')\n",
    "\n",
    "        # Camino Viterbi\n",
    "        z = np.zeros(H)\n",
    "        z[maxstate[t]] = 1\n",
    "        plt.subplot(5, T, 3 * T + t + 1)\n",
    "        plt.imshow(z.reshape(Gx, Gy), vmin=0, vmax=1, cmap='bone')\n",
    "        plt.axis('off')\n",
    "\n",
    "        # Camino real\n",
    "        z = np.zeros(H)\n",
    "        z[h[t]] = 1\n",
    "        plt.subplot(5, T, 4 * T + t + 1)\n",
    "        plt.imshow(z.reshape(Gx, Gy), vmin=0, vmax=1, cmap='bone')\n",
    "        plt.axis('off')\n",
    "\n",
    "    plt.show()\n",
    "\n",
    "    print('El dibujo muestra (de arriba a abajo) las observaciones, la posterior filtrada,\\n',\n",
    "          'la posterior suavizada, Viterbi, y la posición latente real del ladrón.\\n')\n"
   ]
  },
  {
   "cell_type": "code",
   "execution_count": 6,
   "id": "3480c4dd-2bf7-432f-8bd8-27a95653a8d8",
   "metadata": {
    "colab": {
     "base_uri": "https://localhost:8080/",
     "height": 1000
    },
    "executionInfo": {
     "elapsed": 1874,
     "status": "ok",
     "timestamp": 1732015148540,
     "user": {
      "displayName": "IGNACIO GUTIÉRREZ SÁNCHEZ",
      "userId": "01595325672483733798"
     },
     "user_tz": -60
    },
    "id": "3480c4dd-2bf7-432f-8bd8-27a95653a8d8",
    "outputId": "ac34a9ab-c49d-454e-e3e0-c412d51ff2e4"
   },
   "outputs": [
    {
     "data": {
      "image/png": "[encoded data removed]",
      "text/plain": [
       "<Figure size 640x480 with 2 Axes>"
      ]
     },
     "metadata": {},
     "output_type": "display_data"
    },
    {
     "data": {
      "image/png": "[encoded data removed]",
      "text/plain": [
       "<Figure size 1500x1000 with 50 Axes>"
      ]
     },
     "metadata": {},
     "output_type": "display_data"
    },
    {
     "name": "stdout",
     "output_type": "stream",
     "text": [
      "El dibujo muestra (de arriba a abajo) las observaciones, la posterior filtrada,\n",
      " la posterior suavizada, Viterbi, y la posición latente real del ladrón.\n",
      "\n"
     ]
    }
   ],
   "source": [
    "phtgV1t = demoHMMburglar()"
   ]
  },
  {
   "cell_type": "code",
   "execution_count": null,
   "id": "4416fa07-cbc7-49b3-8c3f-3e8b8ecc4162",
   "metadata": {
    "id": "4416fa07-cbc7-49b3-8c3f-3e8b8ecc4162"
   },
   "outputs": [],
   "source": []
  }
 ],
 "metadata": {
  "colab": {
   "provenance": []
  },
  "kernelspec": {
   "display_name": "Python 3 (ipykernel)",
   "language": "python",
   "name": "python3"
  },
  "language_info": {
   "codemirror_mode": {
    "name": "ipython",
    "version": 3
   },
   "file_extension": ".py",
   "mimetype": "text/x-python",
   "name": "python",
   "nbconvert_exporter": "python",
   "pygments_lexer": "ipython3",
   "version": "3.12.2"
  }
 },
 "nbformat": 4,
 "nbformat_minor": 5
}
