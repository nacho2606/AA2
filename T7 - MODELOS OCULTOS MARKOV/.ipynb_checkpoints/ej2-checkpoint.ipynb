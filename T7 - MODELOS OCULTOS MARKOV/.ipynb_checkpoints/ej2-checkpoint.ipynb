{
 "cells": [
  {
   "cell_type": "code",
   "execution_count": 10,
   "id": "79341a79-a072-4a89-bd62-1bcb007b4d4c",
   "metadata": {
    "slideshow": {
     "slide_type": ""
    },
    "tags": []
   },
   "outputs": [],
   "source": [
    "import numpy as np\n",
    "from scipy.special import logsumexp\n",
    "import matplotlib.pyplot as plt"
   ]
  },
  {
   "cell_type": "markdown",
   "id": "b275e2d1-2f05-4408-b987-2236826196c4",
   "metadata": {},
   "source": [
    "## Modelos ocultos de Markov.\n",
    "\n",
    "Vamos a reutilizar la clase del ejercicio anterior pero, para evitar errores de ejecución por problemas de estabilidad numérica cuando trabajemos con secuencias largas, la modificaremos para trabajar casi todo el tiempo en escala logarítmica:\n",
    "\n",
    "- Modificamos el valor devuelto por los métodos \"forward\" y \"backward\" para que sea directamente el logaritmo.\n",
    "- Eliminamos (aunque podría mantenerse) el método \"smooth\" y lo sustituimos por \"log_smooth\", que devolverá los mismos resultados pero en escala logarítmica.\n",
    "\n",
    "Además, vamos a implementar un método \"sample\" que permita muestrear una secuencia de longitud T del HMM."
   ]
  },
  {
   "cell_type": "code",
   "execution_count": 42,
   "id": "249bdb22-64ab-4643-ac82-e64ac7c21fe4",
   "metadata": {},
   "outputs": [],
   "source": [
    "import numpy as np\n",
    "from scipy.special import logsumexp\n",
    "\n",
    "class HMM:\n",
    "    def __init__(self, phghm, ph1, pvgh):\n",
    "        \"\"\"\n",
    "        phghm : distribución de transiciones homogéneas phghm(i,j)=p(h(t)=i|h(t-1)=j)\n",
    "        ph1 : distribución inicial\n",
    "        pvgh : distribución de emisión homogénea pvgh(i,j)=p(v(t)=i|h(t)=j)\n",
    "        \"\"\"\n",
    "\n",
    "        self.phghm = phghm\n",
    "        self.ph1 = ph1\n",
    "        self.pvgh = pvgh\n",
    "        self.H = len(ph1)\n",
    "        self.V = len(pvgh[:, 0])\n",
    "        \n",
    "    def forward(self, v):\n",
    "        phghm, ph1, pvgh = self.phghm, self.ph1, self.pvgh\n",
    "        T, H = len(v), self.H\n",
    "\n",
    "        logalpha = np.zeros((H, T))\n",
    "\n",
    "        logalpha[:, 0] = np.log(pvgh[v[0], :] * ph1)\n",
    "        \n",
    "        for t in range(1, T):\n",
    "            logalpha[:, t] = np.log(pvgh[v[t], :]) + logsumexp(\n",
    "                np.log(phghm.T) + logalpha[:, t-1].reshape(H, 1), axis=0)\n",
    "        \n",
    "        return logalpha, logsumexp(logalpha[:, T-1])\n",
    "\n",
    "    def backward(self, v):\n",
    "        phghm, ph1, pvgh = self.phghm, self.ph1, self.pvgh\n",
    "        T, H = len(v), self.H\n",
    "\n",
    "        logbeta = np.zeros((H, T))\n",
    "\n",
    "        for t in range(T-1, 0, -1):\n",
    "            logbeta[:, t-1] = logsumexp(\n",
    "                logbeta[:, t].reshape(H, 1) + \n",
    "                (np.log(pvgh[v[t], :].reshape(H, 1)) + np.log(phghm)), axis=0)\n",
    "    \n",
    "        return logbeta\n",
    "\n",
    "    def log_smooth(self, v):\n",
    "        log_phghm = np.log(self.phghm + 1e-10)  # Evitar log(0)\n",
    "        log_pvgh = np.log(self.pvgh + 1e-10)\n",
    "        T, H = len(v), self.H\n",
    "\n",
    "        log_alpha, llik = self.forward(v)\n",
    "        log_beta = self.backward(v)\n",
    "\n",
    "        # Normalización estable para p(h(t)|v(1:T)) en escala logarítmica\n",
    "        log_phtgV1T = log_alpha + log_beta - llik\n",
    "\n",
    "        log_phthtgV1T = np.zeros((H, H, T-1))\n",
    "        for t in range(T-1):\n",
    "            log_phthtgV1T[:, :, t] = (\n",
    "                log_alpha[:, t].reshape(H, 1) +\n",
    "                log_phghm +\n",
    "                log_pvgh[v[t+1], :].reshape(1, H) +\n",
    "                log_beta[:, t+1].reshape(1, H) -\n",
    "                llik\n",
    "            )\n",
    "\n",
    "        return log_phtgV1T, log_phthtgV1T, llik\n",
    "\n",
    "\n",
    "\n",
    "    def viterbi(self, v):\n",
    "        phghm, ph1, pvgh = self.phghm, self.ph1, self.pvgh\n",
    "        T, H = len(v), self.H\n",
    "\n",
    "        logmu = np.zeros((H, T))\n",
    "        psi = np.zeros((H, T), dtype=int)\n",
    "\n",
    "        logmu[:, 0] = np.log(ph1) + np.log(pvgh[v[0], :])\n",
    "\n",
    "        for t in range(1, T):\n",
    "            for h in range(H):\n",
    "                candidates = logmu[:, t-1] + np.log(phghm[h, :])\n",
    "                logmu[h, t] = np.max(candidates)\n",
    "                psi[h, t] = np.argmax(candidates)\n",
    "                logmu[h, t] += np.log(pvgh[v[t], h])\n",
    "\n",
    "        path = np.zeros(T, dtype=int)\n",
    "        path[T-1] = np.argmax(logmu[:, T-1])\n",
    "        for t in range(T-2, -1, -1):\n",
    "            path[t] = psi[path[t+1], t+1]\n",
    "\n",
    "        return path\n",
    "\n",
    "    def sample(self, T, rng=None):\n",
    "        if rng is None:\n",
    "            rng = np.random.default_rng()\n",
    "\n",
    "        h_states = np.zeros(T, dtype=int)\n",
    "        obs = np.zeros(T, dtype=int)\n",
    "\n",
    "        h_states[0] = rng.choice(self.H, p=self.ph1)\n",
    "\n",
    "        for t in range(T):\n",
    "            obs[t] = rng.choice(self.V, p=self.pvgh[:, h_states[t]])\n",
    "            if t < T-1:\n",
    "                h_states[t+1] = rng.choice(self.H, p=self.phghm[:, h_states[t]])\n",
    "    \n",
    "        return h_states, obs\n"
   ]
  },
  {
   "cell_type": "markdown",
   "id": "befb7535-1b06-476c-b9be-dcccc4174c58",
   "metadata": {},
   "source": [
    "### Algoritmo EM para modelos ocultos de Markov\n",
    "\n",
    "Aunque podría (y quizá debería) implementarse como otro método de la clase HMM, aquí lo vamos a definir en una clase propia. La implementación sigue la descripción del libro de Barber: tan solo hay que recordar que vamos a trabajar con \"log_smooth\" para evitar errores numéricos."
   ]
  },
  {
   "cell_type": "code",
   "execution_count": 66,
   "id": "c2f3a46a-96ae-4d5a-8432-89e628b09f4c",
   "metadata": {},
   "outputs": [],
   "source": [
    "import numpy as np\n",
    "\n",
    "class HMM_EM:\n",
    "    def __init__(self, v, H, V):\n",
    "        \"\"\"\n",
    "        v : lista de arrays, de manera que v[3][5] corresponde a la secuencia 3, paso 5\n",
    "        H : número de estados ocultos\n",
    "        V : número de estados visibles (observables) \n",
    "        \"\"\"\n",
    "        self.v = v\n",
    "        self.V = V\n",
    "        self.H = H\n",
    "        self.N = len(v)  # Número de secuencias\n",
    "\n",
    "    def em(self, maxit):\n",
    "        v, H, V, N = self.v, self.H, self.V, self.N\n",
    "\n",
    "        # Inicialización aleatoria con normalización.\n",
    "        phghm = np.random.rand(H, H)  # Distribución de transiciones p(h(t)|h(t-1))\n",
    "        phghm /= phghm.sum(axis=1, keepdims=True)  # Normalizar filas\n",
    "        pvgh = np.random.rand(V, H)  # Distribución de emisión p(v(t)|h(t))\n",
    "        pvgh /= pvgh.sum(axis=0, keepdims=True)  # Normalizar columnas\n",
    "        ph1 = np.random.rand(H)  # p(h) inicial\n",
    "        ph1 /= ph1.sum()  # Normalizar\n",
    "\n",
    "        llik = np.zeros(maxit)  # Log-verosimilitudes a lo largo de las iteraciones\n",
    "\n",
    "        for emloop in range(maxit):\n",
    "            A = np.zeros((H, H))  # Transiciones esperadas\n",
    "            a = np.zeros(H)       # Estados iniciales esperados\n",
    "            B = np.zeros((V, H))  # Emisiones esperadas\n",
    "            llik[emloop] = 0\n",
    "\n",
    "            # Paso E: Calcular las probabilidades suavizadas y acumular los estadísticos\n",
    "            for n in range(N):\n",
    "                hmm = HMM(phghm, ph1, pvgh)  # Crear modelo HMM con los parámetros actuales\n",
    "                log_phtgV1T, log_phthtgV1T, loglik = hmm.log_smooth(v[n])  # Probabilidades suavizadas\n",
    "\n",
    "                # Convertir a escala normal\n",
    "                phtgV1T = np.exp(log_phtgV1T)  # p(h(t)|v(1:T))\n",
    "                phthtgV1T = np.exp(log_phthtgV1T)  # p(h(t),h(t+1)|v(1:T))\n",
    "\n",
    "                # Acumular log-verosimilitud\n",
    "                llik[emloop] += loglik\n",
    "\n",
    "                # Calcular estadísticos para el paso M\n",
    "                a += phtgV1T[:, 0]  # Número esperado de veces que h(1) = i\n",
    "                A += phthtgV1T.sum(axis=2)  # Transiciones esperadas de h(t) a h(t+1)\n",
    "                for t in range(len(v[n])):\n",
    "                    B[v[n][t], :] += phtgV1T[:, t]  # Número esperado de veces que h(t) genera v(t)\n",
    "            \n",
    "            epsilon = 1e-3  # Pequeño valor para evitar ceros\n",
    "            # Paso M: Actualizar los parámetros\n",
    "            ph1 = (a + epsilon) / (a.sum() + H * epsilon)  # Actualizar distribución inicial\n",
    "            phghm = ((A.T + epsilon) / (A.sum(axis=1) + H * epsilon)).T  # Normalizar filas de la matriz de transición\n",
    "            pvgh = (B + epsilon) / (B.sum(axis=0, keepdims=True) + V * epsilon)  # Normalizar columnas de la matriz de emisión\n",
    "\n",
    "        # Devolver los parámetros finales y la última log-verosimilitud\n",
    "        return ph1, phghm, pvgh, llik[-1]\n"
   ]
  },
  {
   "cell_type": "markdown",
   "id": "fd035d92-b9a9-4c7b-83d8-b71983742ebc",
   "metadata": {},
   "source": [
    "## El casino fraudulento.\n",
    "\n",
    "En este casino, la banca hace trampas: utiliza un dado normal en que las seis caras son equiprobables pero de vez en cuando lo cambian por uno trucado en el que el 6 sale la mitad de las veces. Para evitar sospechas, no se cambia de dado muy a menudo y una vez se hace se tiende a seguir usándolo durante bastante tiempo. Más concretamente:\n",
    "- si se está jugando con el dado normal, se sigue jugando con él con probabilidad 0.95 y se cambia con probabilidad 0.05;\n",
    "- si se está utilizando el dado trucado, se sigue jugando con él con probabilidad 0.90 y se cambia con probabilidad 0.10. \n",
    "- se empieza jugando con la misma probabilidad con cualquiera de los dos dados.\n"
   ]
  },
  {
   "cell_type": "code",
   "execution_count": 67,
   "id": "edd8f589-fde5-4fa8-a946-fd3e897bf1a6",
   "metadata": {},
   "outputs": [],
   "source": [
    "# Formalización de las probabilidades.\n",
    "# El dado normal es el 0 y el trucado, el 1.\n",
    "ph1 = np.array([0.5, 0.5])\n",
    "phghm = np.array([[0.95, 0.10],\n",
    "                  [0.05, 0.90]])\n",
    "pvgh = np.array([[1/6,  1/6,  1/6,  1/6,  1/6,  1/6],      # dado normal\n",
    "                 [1/10, 1/10, 1/10, 1/10, 1/10, 5/10]]).T  # dado trucado"
   ]
  },
  {
   "cell_type": "markdown",
   "id": "b056eb99-ac54-4a39-8454-68e9d87a8e22",
   "metadata": {},
   "source": [
    "### Muestrear datos del modelo real.\n",
    "\n",
    "Aunque conocemos los datos reales, vamos a intentar aprenderlos a partir de observaciones de juegos en el casino. Para ello vamos a muestrear algunas secuencias de lanzamientos en el casino real."
   ]
  },
  {
   "cell_type": "code",
   "execution_count": 68,
   "id": "632bbb3f-175f-41ee-b4da-2216f6d95fc0",
   "metadata": {},
   "outputs": [],
   "source": [
    "num_batches = 5\n",
    "num_timesteps = 2000\n",
    "casino = HMM(phghm, ph1, pvgh)\n",
    "\n",
    "batch_h = np.zeros((num_batches,num_timesteps), dtype='int')\n",
    "batch_v = np.zeros((num_batches,num_timesteps), dtype='int')\n",
    "rng = np.random.default_rng(seed=42)  # Crear RNG con una semilla específica\n",
    "for t in range(num_batches):\n",
    "    batch_h[t], batch_v[t] = casino.sample(num_timesteps, rng)"
   ]
  },
  {
   "cell_type": "markdown",
   "id": "3de3557a-3c8c-4615-9610-a7a1ddd6bb06",
   "metadata": {},
   "source": [
    "Ahora aplicamos el algoritmo EM para averigüar las probabilidades."
   ]
  },
  {
   "cell_type": "code",
   "execution_count": 69,
   "id": "532712ee-2a0e-478d-bdde-7c0ea99e418b",
   "metadata": {},
   "outputs": [],
   "source": [
    "casino_EM = HMM_EM(batch_v, 2, 6)\n",
    "\n",
    "# Unos minutos.\n",
    "tries = 4\n",
    "best_llik = -np.inf\n",
    "for i in range(tries):\n",
    "    ph1, phghm, pvgh, llik = casino_EM.em(100)\n",
    "    if llik > best_llik:\n",
    "        best_llik = llik\n",
    "        ph1_l, phghm_l, pvgh_l = ph1, phghm, pvgh"
   ]
  },
  {
   "cell_type": "markdown",
   "id": "a58b6939-4267-439b-8cf0-fdfcb6e11a9e",
   "metadata": {},
   "source": [
    "Comprobemos si los valores obtenidos se parecen a los reales."
   ]
  },
  {
   "cell_type": "code",
   "execution_count": 70,
   "id": "cb7c0119-6de4-43f3-ba3f-5eca5b864072",
   "metadata": {},
   "outputs": [
    {
     "data": {
      "text/plain": [
       "(array([3.42996715e-04, 5.38744413e-01, 3.42996715e-04, 1.95513042e-01,\n",
       "        1.95812453e-01, 6.92440984e-02]),\n",
       " array([0.14304165, 0.14768597, 0.13794016, 0.14808619, 0.14778602,\n",
       "        0.27546001]))"
      ]
     },
     "execution_count": 70,
     "metadata": {},
     "output_type": "execute_result"
    }
   ],
   "source": [
    "# Distribución de emisiones\n",
    "pvgh_l[:,0], pvgh_l[:,1]"
   ]
  },
  {
   "cell_type": "code",
   "execution_count": 71,
   "id": "1d412570-0fd4-4c55-8571-669c92808176",
   "metadata": {},
   "outputs": [
    {
     "data": {
      "text/plain": [
       "(array([1.00132823e-07, 1.00108346e-07]), array([0.9999999, 0.9999999]))"
      ]
     },
     "execution_count": 71,
     "metadata": {},
     "output_type": "execute_result"
    }
   ],
   "source": [
    "# Distribución de emisiones\n",
    "phghm_l[:,0], phghm_l[:,1]"
   ]
  },
  {
   "cell_type": "code",
   "execution_count": null,
   "id": "88930f8f",
   "metadata": {},
   "outputs": [],
   "source": []
  }
 ],
 "metadata": {
  "kernelspec": {
   "display_name": "Python 3 (ipykernel)",
   "language": "python",
   "name": "python3"
  },
  "language_info": {
   "codemirror_mode": {
    "name": "ipython",
    "version": 3
   },
   "file_extension": ".py",
   "mimetype": "text/x-python",
   "name": "python",
   "nbconvert_exporter": "python",
   "pygments_lexer": "ipython3",
   "version": "3.11.5"
  }
 },
 "nbformat": 4,
 "nbformat_minor": 5
}
