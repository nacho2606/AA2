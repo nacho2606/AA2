{
 "cells": [
  {
   "cell_type": "code",
   "execution_count": 1,
   "id": "79341a79-a072-4a89-bd62-1bcb007b4d4c",
   "metadata": {
    "slideshow": {
     "slide_type": ""
    },
    "tags": []
   },
   "outputs": [],
   "source": [
    "import numpy as np\n",
    "from scipy.special import logsumexp\n",
    "import matplotlib.pyplot as plt"
   ]
  },
  {
   "cell_type": "markdown",
   "id": "9ce496ec-ce08-46e3-828c-4c0ae89f2da1",
   "metadata": {},
   "source": [
    "## Modelos ocultos de Markov\n",
    "\n",
    "Reutilizamos la clase de ejercicios anteriores. Cambiamos el algoritmo de Viterbi para implementar la versión con la recurrencia hacia delante (aunque no se necesita para este ejemplo) y añadimos el método \"viterbiN\" para calcular las N secuencias más probables."
   ]
  },
  {
   "cell_type": "code",
   "execution_count": 134,
   "id": "249bdb22-64ab-4643-ac82-e64ac7c21fe4",
   "metadata": {},
   "outputs": [],
   "source": [
    "class HMM:\n",
    "    def __init__(self, phghm, ph1, pvgh):\n",
    "        \"\"\"\n",
    "        phghm : distribución de transiciones homogéneas phghm(i,j)=p(h(t)=i|h(t-1)=j)\n",
    "        ph1 : distribución inicial\n",
    "        pvgh : distribución de emisión homogénea pvgh(i,j)=p(v(t)=i|h(t)=j)\n",
    "        \"\"\"\n",
    "\n",
    "        self.phghm = phghm \n",
    "        self.ph1 = ph1 \n",
    "        self.pvgh = pvgh \n",
    "        self.H = len(ph1)\n",
    "        \n",
    "    def forward(self, v):\n",
    "        \"\"\"\n",
    "        Entrada:\n",
    "        v : valores observados\n",
    "        \n",
    "        Salida: \n",
    "        p(h(t),v(1:t))\n",
    "        loglik : log-verosimilitud de la secuencia log p(v(1:T))\n",
    "        \"\"\"\n",
    "        \n",
    "        phghm, ph1, pvgh = self.phghm, self.ph1, self.pvgh\n",
    "        T, H = len(v), self.H\n",
    "\n",
    "        # Recursión logAlfa.\n",
    "        logalpha = np.zeros((H, T))\n",
    "\n",
    "        # Inicialización.\n",
    "        logalpha[:, 0] = np.log(pvgh[v[0], :] * ph1)\n",
    "\n",
    "        # Recursión.\n",
    "        for t in range(1, T):\n",
    "            logalpha[:, t] = np.log(pvgh[v[t], :]) + logsumexp(np.log(phghm.T) + np.expand_dims(logalpha[:, t-1], axis=1), axis=0)\n",
    "        \n",
    "        return np.exp(logalpha), logsumexp(logalpha[:,T-1])\n",
    "        \n",
    "    def backward(self, v):\n",
    "        \"\"\"\n",
    "        Entrada:\n",
    "        # v : valores observados\n",
    "\n",
    "        Salida:\n",
    "        p(v(t+1:T)|h(t))\n",
    "        \"\"\"\n",
    "        \n",
    "        phghm, ph1, pvgh = self.phghm, self.ph1, self.pvgh\n",
    "        T, H = len(v), self.H\n",
    "\n",
    "        # Recursión logBeta \n",
    "        logbeta = np.zeros((H, T))\n",
    "\n",
    "        # Recursión\n",
    "        for t in range(T-1, 0, -1):\n",
    "            #beta[:, t-1] = (pvgh[v[t], :] * beta[:, t]) @ phghm \n",
    "            logbeta[:, t-1] = logsumexp(logbeta[:, t].reshape(H,1) + (np.log(pvgh[v[t], :].reshape((H,1))) + np.log(phghm)), axis=0)\n",
    "    \n",
    "        return np.exp(logbeta)\n",
    "\n",
    "    def smooth(self, v):\n",
    "        \"\"\"\n",
    "        Entrada:\n",
    "        v : valores observados\n",
    "        \n",
    "        Salida:\n",
    "        p(h(t)|v(1:T))\n",
    "        p(h(t),h(t+1)|v(1:T))\n",
    "        llik : log-verosimilitud de la secuencia log p(v(1:T))\n",
    "        \"\"\"\n",
    "        \n",
    "        phghm, pvgh = self.phghm, self.pvgh\n",
    "        T, H = len(v), self.H\n",
    "\n",
    "        # alpha : mensajes alfa p(h(t),v(1:t))\n",
    "        # beta : mensajes beta p(v(t+1:T)|h(t))\n",
    "        alpha, llik = self.forward(v)\n",
    "        beta = self.backward(v)\n",
    "\n",
    "        phtgV1T = np.zeros((H,T))\n",
    "        phthtgV1T = np.zeros((H,H,T))\n",
    "\n",
    "        # posteriores suavizadas: marginales puntuales\n",
    "        for t in range(T):\n",
    "            phtgV1T[:, t] = alpha[:, t] * beta[:, t] # enfoque alfa-beta \n",
    "            phtgV1T[:, t] = phtgV1T[:, t] / np.sum(phtgV1T[:, t])\n",
    "\n",
    "        # posteriores suavizadas: marginales por pares p(h(t),h(t+1)|v(1:T)):\n",
    "        for t in range(T-1):\n",
    "            atmp = alpha[:, t].reshape(H,1)\n",
    "            btmp = beta[:, t+1]\n",
    "            ctmp = atmp * pvgh[v[t+1],:] * phghm.T * btmp\n",
    "            phthtgV1T[:,:,t] = ctmp / np.sum(ctmp)\n",
    "    \n",
    "        return phtgV1T, phthtgV1T, llik\n",
    "\n",
    "    # Versión hacia delante (distinta de la de Barber).\n",
    "    def viterbi(self, v):\n",
    "        \"\"\"\n",
    "        Entrada:\n",
    "        v : valores observados\n",
    "\n",
    "        Salida:\n",
    "        path : Secuencia más probable\n",
    "        \"\"\"\n",
    "        \n",
    "        phghm, ph1, pvgh = self.phghm, self.ph1, self.pvgh\n",
    "        T, H = len(v), self.H\n",
    "\n",
    "        omega = np.zeros((H,T)) # log-probabilidad del camino más probable \n",
    "                                # que llega al estado h en tiempo t (y observando v)\n",
    "                                # p(h(t), v)\n",
    "        psi = np.zeros((H,T), dtype=int) # estado desde el que se llega a h en tiempo t\n",
    "                                         # en el camino más probable\n",
    "\n",
    "        # Inicialización de omega para el estado en el tiempo 0; no se viene de ningún estado.\n",
    "        omega[:,0] = np.log(ph1) + np.log(pvgh[v[0],:])\n",
    "\n",
    "        # Calcular omega (y psi) para los instantes de tiempo posteriores a 0.\n",
    "        # omega[h,t] = max_h1( log(pvgh[v[t],h]) + omega[h1,t-1] + log(phghm[h, h1]) )\n",
    "        for t in range(1,T):\n",
    "            omega[:,t] = np.log(pvgh[v[t],:]) +  np.max(np.log(phghm) + omega[:,t-1].reshape(1,H), axis=1)\n",
    "            # En psi se guarda el estado en el que se alcanza el máximo anterior.\n",
    "            psi[:,t] = np.argmax(np.log(phghm) + omega[:,t-1].reshape(1,H), axis=1)\n",
    "\n",
    "        # Recuperar el camino más probable utilizando psi, de atrás hacia delante.\n",
    "        path = np.zeros(T, dtype=int)\n",
    "        path[T-1] = np.argmax(omega[:,T-1])\n",
    "        \n",
    "        for t in range(T-2,-1,-1):\n",
    "            path[t] = psi[path[t+1], t+1]\n",
    "        \n",
    "        return path\n",
    "\n",
    "    def viterbiN(self, v, N=1):\n",
    "        \"\"\"\n",
    "        Entrada:\n",
    "        v : valores observados\n",
    "        N : número de secuencias a devolver\n",
    "\n",
    "        Salida:\n",
    "        paths : N secuencias más probables\n",
    "        \"\"\"\n",
    "        phghm, ph1, pvgh = self.phghm, self.ph1, self.pvgh\n",
    "        T, H = len(v), self.H\n",
    "\n",
    "        # Inicializar omega y psi para almacenar N caminos.\n",
    "        omega = np.zeros((H, T, N))  # Omega para los N caminos\n",
    "        psi = np.zeros((H, T, 2, N), dtype=int)  # Psi para los N caminos\n",
    "\n",
    "        # Inicialización de omega para t = 0 (log-probabilidad inicial).\n",
    "        omega[:, 0, 0] = np.log(ph1) + np.log(pvgh[v[0], :])\n",
    "        for n in range(1, N):  # Los N-1 caminos restantes tienen probabilidad -inf al principio.\n",
    "            omega[:, 0, n] = -np.inf\n",
    "\n",
    "        # Calcular omega (y psi) para t > 0.\n",
    "        for t in range(1, T):\n",
    "            for i in range(H):\n",
    "                # Calcular la probabilidad de cada camino para el estado i en el tiempo t.\n",
    "                # Obtenemos las N mayores probabilidades de las combinaciones posibles de transiciones.\n",
    "                log_probs = np.log(pvgh[v[t], i]) + omega[:, t-1, :] + np.log(phghm[i, :]).reshape(-1, 1)\n",
    "                top_N = np.argsort(log_probs.flatten())[-N:]  # Índices de las N mayores probabilidades.\n",
    "                \n",
    "                for n in range(N):\n",
    "                    idx = top_N[n]  # El índice de la n-ésima mayor probabilidad.\n",
    "                    state_prev = idx // H  # Estado previo (para reconstruir el camino)\n",
    "                    state_current = idx % H  # Estado actual (en el tiempo t)\n",
    "\n",
    "                    omega[state_current, t, n] = log_probs.flatten()[idx]\n",
    "                    psi[state_current, t, 0, n] = state_prev\n",
    "                    psi[state_current, t, 1, n] = n  # Índice del camino más probable.\n",
    "\n",
    "        # Recuperar las N secuencias más probables.\n",
    "        paths = np.zeros((T, 2, N), dtype=int)  # paths[t, 0, n] es el estado en el tiempo t para el n-ésimo camino\n",
    "\n",
    "        # Para cada n, reconstruimos el camino hacia atrás.\n",
    "        for n in range(N):\n",
    "            # Empezamos desde el último estado\n",
    "            paths[T-1, 0, n] = np.argmax(omega[:, T-1, n])  # El estado más probable en el tiempo T-1\n",
    "            for t in range(T-2, -1, -1):\n",
    "                prev_state = psi[paths[t+1, 0, n], t+1, 0, n]  # Recuperar el estado anterior.\n",
    "                # Asegurarse de que prev_state esté dentro de los límites\n",
    "                if prev_state < H:  # Verificar si el estado anterior es válido\n",
    "                    paths[t, 0, n] = prev_state\n",
    "                else:\n",
    "                    paths[t, 0, n] = -1  # Si el índice es incorrecto, asignar un valor de error o continuar.\n",
    "\n",
    "        return paths[:, 0, :]"
   ]
  },
  {
   "cell_type": "markdown",
   "id": "7596b13d-99bf-441a-b469-7308299e27a4",
   "metadata": {},
   "source": [
    "### Distribuciones de transiciones y de emisión.\n",
    "Leemos de ficheros las distribuciones de transición de letra a letra correspondientes al inglés y la distribución de emisión en la que es más probable pulsar una tecla adyacente a la que se quería."
   ]
  },
  {
   "cell_type": "code",
   "execution_count": 135,
   "id": "55d8576f-d016-4c65-aa42-fd51b9cb0200",
   "metadata": {},
   "outputs": [],
   "source": [
    "file_pathA = 'A-transition.csv'\n",
    "file_pathB = 'B-emission.csv'\n",
    "\n",
    "# Leer los ficheros CSV en arrays de NumPy\n",
    "phghm = np.loadtxt(file_pathA, delimiter=',')\n",
    "pvghm = np.loadtxt(file_pathB, delimiter=',')"
   ]
  },
  {
   "cell_type": "markdown",
   "id": "59050f8b-5adc-4381-8f94-26b64c6ce847",
   "metadata": {},
   "source": [
    "Comprobamos que las imágenes son las que aparecen en el libro."
   ]
  },
  {
   "cell_type": "code",
   "execution_count": 136,
   "id": "9623fa9e-432b-466c-9032-69303cded622",
   "metadata": {},
   "outputs": [
    {
     "data": {
      "text/plain": [
       "<matplotlib.image.AxesImage at 0x1fd5a05c750>"
      ]
     },
     "execution_count": 136,
     "metadata": {},
     "output_type": "execute_result"
    },
    {
     "data": {
      "image/png": "[encoded data removed]",
      "text/plain": [
       "<Figure size 640x480 with 2 Axes>"
      ]
     },
     "metadata": {},
     "output_type": "display_data"
    }
   ],
   "source": [
    "plt.subplot(1, 2, 1)\n",
    "plt.imshow(pvghm, vmin=0, vmax=0.6, cmap='hot')\n",
    "plt.subplot(1, 2, 2)\n",
    "plt.imshow(phghm, vmin=0, vmax=1, cmap='hot')"
   ]
  },
  {
   "cell_type": "code",
   "execution_count": 137,
   "id": "c3bbfcfe-7ce0-4a1c-9830-05bbaecd4dec",
   "metadata": {},
   "outputs": [],
   "source": [
    "# Distribución inicial: es uniforme.\n",
    "L = {'a','b','c','d','e','f','g','h','i','j','k','l','m','n','o','p','q','r','s','t','u','v','w','x','y','z',' '}\n",
    "ph1 = np.ones(len(L)) / len(L)"
   ]
  },
  {
   "cell_type": "code",
   "execution_count": 138,
   "id": "1a2a65da-6748-4553-9f8c-94d2390abe1b",
   "metadata": {},
   "outputs": [],
   "source": [
    "# Cargamos las palabras del diccionario.\n",
    "with open('brit-a-z8.txt', 'r') as f:\n",
    "    words = [line.strip() for line in f]"
   ]
  },
  {
   "cell_type": "code",
   "execution_count": 139,
   "id": "33f3c151-62a2-4494-9a8f-5fcb6bdca897",
   "metadata": {},
   "outputs": [],
   "source": [
    "# Datos de entrada\n",
    "#s = 'gtiklksnr' # requiere las 1115 secuencias más probables\n",
    "s = 'kezrninh' # requiere las 153 secuencias más probables\n",
    "Nmax = 200 # número de secuencias más probables que pedimos"
   ]
  },
  {
   "cell_type": "code",
   "execution_count": 140,
   "id": "889b983c-8946-491e-aa67-89edb08892a9",
   "metadata": {},
   "outputs": [],
   "source": [
    "# Transformar la secuencia de caracteres observada en números.\n",
    "# Para ello usamos que ord('a') es 97 y las demás letra son consecutivas.\n",
    "v = np.array([ord(char) - 96 for char in s]) \n",
    "v[v == -64] = 27 # tratamos el espacio en blanco\n",
    "v = v - 1 # índices comienzan en 0, no 1"
   ]
  },
  {
   "cell_type": "markdown",
   "id": "dceb000e-d1b9-4a55-a7c6-dcb96f15e6ab",
   "metadata": {},
   "source": [
    "Construimos el HMM asociado al problema."
   ]
  },
  {
   "cell_type": "code",
   "execution_count": 141,
   "id": "273f6b1b-24f8-400f-b42b-bd2c10270c94",
   "metadata": {},
   "outputs": [],
   "source": [
    "hmm = HMM(phghm, ph1, pvghm)"
   ]
  },
  {
   "cell_type": "markdown",
   "id": "d98c2041-c441-45ac-822a-867af4c62e27",
   "metadata": {},
   "source": [
    "Pueden aparecer avisos de error por intentar calcular el logaritmo de 0. Esto es debido a que la matriz de transiciones phghm contiene entradas que son nulas. Afortunadamente, en esta situación esto simplemente resulta en que algunas probabilidades en el vector \"probs\" toman el valor -np.inf; como luego nos quedamos con las N mejores, aquellas quedarán descartadas."
   ]
  },
  {
   "cell_type": "code",
   "execution_count": 142,
   "id": "0ceb5acc-dde1-4c76-a7cc-914c7adee37a",
   "metadata": {},
   "outputs": [
    {
     "name": "stderr",
     "output_type": "stream",
     "text": [
      "C:\\Users\\nacho\\AppData\\Local\\Temp\\ipykernel_34740\\4034288870.py:161: RuntimeWarning: divide by zero encountered in log\n",
      "  log_probs = np.log(pvgh[v[t], i]) + omega[:, t-1, :] + np.log(phghm[i, :]).reshape(-1, 1)\n"
     ]
    }
   ],
   "source": [
    "maxpath = hmm.viterbiN(v, Nmax)"
   ]
  },
  {
   "cell_type": "markdown",
   "id": "63bac1d7-148e-4281-a259-76c436e10316",
   "metadata": {},
   "source": [
    "Intentamos recuperar la cadena que realmente se quería teclear. Hay que tener en cuenta que la cadena más probable asociada a esta instancia no sea una palabra válida en inglés sino una secuencia sin sentido como la cadena que nos ocupa. Por ello, ahora que tenemos las cadenas más probables hay que ir comprobándolas una a una hasta dar con una que se corresponda con una palabra en inglés (en nuestro diccionario)."
   ]
  },
  {
   "cell_type": "markdown",
   "id": "5f7dd8dd-5641-4b40-8550-002b6810a484",
   "metadata": {},
   "source": [
    "Lo primero es transformar las secuencia numéricas devueltas por el algoritmo \"viterbiN\" en cadenas de caracteres. (Aquí se usa que ord('{') es 123 = 96 + 27.)"
   ]
  },
  {
   "cell_type": "code",
   "execution_count": 143,
   "id": "b245ce81-e722-4f37-b952-3954c3a28c65",
   "metadata": {},
   "outputs": [],
   "source": [
    "maxpath = maxpath + 1\n",
    "strs = []\n",
    "for i in range(Nmax):\n",
    "    cad = ''.join([chr(num + 96) for num in maxpath[:,i]])\n",
    "    cad = cad.replace('{', ' ')\n",
    "    strs.append(cad)"
   ]
  },
  {
   "cell_type": "markdown",
   "id": "56341ffc-8bbb-483c-811c-cf98c846dcf0",
   "metadata": {},
   "source": [
    "Finalmente, buscamos entre las cadenas correspondientes a las secuencias más probables."
   ]
  },
  {
   "cell_type": "code",
   "execution_count": 144,
   "id": "d5421646-8e36-4d62-9748-e8d35f29c4bf",
   "metadata": {},
   "outputs": [],
   "source": [
    "# Comprobar las cadenas decodificadas con las palabras del diccionario para\n",
    "# ver si son válidas.\n",
    "for t in range(Nmax):\n",
    "    current_str = strs[t]\n",
    "    # Guardamos los espacios en blanco para buscar en el diccionario las palabras que separan.\n",
    "    spac = [pos for pos, char in enumerate(current_str) if char == ' ']\n",
    "    spac.append(len(current_str))\n",
    "\n",
    "    start = 0\n",
    "    valid = True\n",
    "    for i in range(len(spac)):\n",
    "        word = current_str[start:spac[i]]\n",
    "        start = spac[i] + 1\n",
    "        if word not in words:\n",
    "            valid = False\n",
    "            break\n",
    "    \n",
    "    if valid:\n",
    "        print(f'{t + 1}: {current_str}')"
   ]
  },
  {
   "cell_type": "code",
   "execution_count": null,
   "id": "5a5de097",
   "metadata": {},
   "outputs": [],
   "source": []
  }
 ],
 "metadata": {
  "kernelspec": {
   "display_name": "Python 3 (ipykernel)",
   "language": "python",
   "name": "python3"
  },
  "language_info": {
   "codemirror_mode": {
    "name": "ipython",
    "version": 3
   },
   "file_extension": ".py",
   "mimetype": "text/x-python",
   "name": "python",
   "nbconvert_exporter": "python",
   "pygments_lexer": "ipython3",
   "version": "3.11.5"
  }
 },
 "nbformat": 4,
 "nbformat_minor": 5
}
