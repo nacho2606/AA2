{
 "cells": [
  {
   "cell_type": "markdown",
   "id": "2df509d8-aaf0-4f9d-899f-094c02a13f2e",
   "metadata": {},
   "source": [
    "# Modelos de Mezcla (Mixture Models)\r\n",
    "\r\n",
    "Un modelo de mezcla combina varios modelos de componente para generar un modelo más complejo. Esto se expresa como una combinación ponderada de distribuciones condicionales. En este caso, \\( p(v) \\) es la distribución total que describe los datos observados, \\( v \\), y se calcula sumando las distribuciones condicionales \\( p(v|h) \\), donde \\( h \\) es una variable oculta (o latente) que indexa diferentes componentes en el modelo.\r\n",
    "\r\n",
    "## Aplicación en Clustering\r\n",
    "\r\n",
    "En el contexto de clustering, cada componente \\( h \\) puede interpretarse como un \"cluster\" y \\( p(h) \\) como la probabilidad de que un punto de datos pertenezca a ese cluster. Al generar un punto de datos \\( v \\), primero se selecciona un cluster \\( h \\) según \\( p(h) \\), y luego se genera el valor de \\( v \\) condicionado en \\( h \\).\r\n",
    "\r\n",
    "## Modelo de Mezcla de Bernoulli Independientes\r\n",
    "\r\n",
    "Este modelo es útil para clústeres de vectores binarios. Los datos \\( v_n = (v_{n1}, \\dots, v_{nD}) \\) son vectores de variables binarias (0 o 1), y el modelo se puede describir como una mezcla de distribuciones de Bernoulli. El aprendizaje de este modelo se hace mediante el algoritmo de Expectation Maximization (EM), que ajusta los parámetros de las distribuciones \\( p(v_i|h) \\) y las probabilidades de los clusters \\( p(h) \\).\r\n",
    "\r\n",
    "## Algoritmo EM\r\n",
    "\r\n",
    "Expectation Maximization (EM) es un algoritmo iterativo utilizado para encontrar estimaciones de máxima verosimilitud en modelos estadísticos con variables latentes. Se compone de dos pasos:\r\n",
    "\r\n",
    "- **E-step (Expectativa)**: Estima la probabilidad posterior de las variables latentes \\( h \\) dado los datos observados \\( v_n \\).\r\n",
    "- **M-step (Maximización)**: Actualiza los parámetros del modelo para maximizar la esperanza de la log-verosimilitud, usando las probabilidades obtenidas en el paso anterior.\r\n",
    "\r\n",
    "## Modelo de Mezcla Gaussiana\r\n",
    "\r\n",
    "Un modelo de mezcla gaussiana combina varias distribuciones normales (Gaussianas), cada una con su propia media (\\( m_i \\)) y matriz de covarianza (\\( S_i \\)). Es útil para modelar datos continuos, como distribuciones de puntos en el espacio.\r\n",
    "\r\n",
    "El modelo de mezcla gaussiana se expresa como una suma ponderada de distribuciones normales, y la tarea es estimar los parámetros de las componentes gaussianas, como las medias, las covarianzas y las probabilidades de mezcla \\( p(i) \\).\r\n",
    "\r\n",
    "## Maximum Likelihood\r\n",
    "\r\n",
    "La log-verosimilitud del modelo de mezcla gaussiana se maximiza mediante el algoritmo EM. En este caso, el E-step implica calcular la probabilidad de que cada dato pertenezca a cada componente gaussiano, y el M-step actualiza los parámetros de las distribuciones gaussianas para maximizar la log-verosimilitud.\r\n",
    "\r\n",
    "## Optimización de los Parámetros\r\n",
    "\r\n",
    "Para el M-step, se calculan las actualizaciones para las medias \\( m_i \\) y las matrices de covarianza \\( S_i \\). Las medias se actualizan ponderando los datos con las probabilidades posteriores de los clusters, mientras que las matrices de covarianza se actualizan mediante una fórmula que involucra las diferencias cuadradas entre los puntos de datos y las medias.\r\n",
    "\r\n",
    "## K-Means y Cuantificación Vectorial\r\n",
    "\r\n",
    "K-Means es una técnica de clustering que puede considerarse como un caso específico de un modelo de mezcla gaussiana con covarianzas isotrópicas (igual en todas las direcciones). A medida que la varianza \\( \\sigma^2 \\) tiende a cero, el algoritmo se comporta como si asignara determinísticamente cada punto al centroide más cercano, lo que se conoce como cuantificación vectorial. Esto se utiliza comúnmente para compresión de datos, donde en lugar de almacenar el punto de datos original, se almacena el índice del centroide al que pertenece.\r\n",
    "\r\n",
    "## Problemas y Soluciones\r\n",
    "\r\n",
    "Uno de los problemas en el ajuste de modelos de mezcla de gaussianas es el sobreajuste o la \"explosión\" de la verosimilitud, especialmente cuando las gaussianas tienen varianzas muy pequeñas. Para evitar esto, se puede añadir una restricción en el ancho de las distribuciones gaussianas para evitar que se conviertan en \"singulares\" (con varianza cero).\r\n"
   ]
  },
  {
   "cell_type": "code",
   "execution_count": 3,
   "id": "9558d300-82af-4825-ba97-18864ea8c8ce",
   "metadata": {},
   "outputs": [],
   "source": [
    "import numpy as np\n",
    "import matplotlib.pyplot as plt\n",
    "from scipy.special import logsumexp"
   ]
  },
  {
   "cell_type": "markdown",
   "id": "f07877f3-1c2d-4bcd-a853-e859d13995a0",
   "metadata": {},
   "source": [
    "## Mezcla de Bernoullis (ejemplo 20.2)\n",
    "\n",
    "Hay que implementar el algoritmo EM para una mezcla de Bernoullis. Las actualizaciones de los parámetros (paso M) y de la distribución de las variables latentes (paso E) se encuentran en la sección 20.2.2 del libro.\n",
    "\n",
    "De nuevo, la vectorización puede enturbiar las ideas básicas. Consideremos el paso E: $p^n(h=j|v^n) \\propto p^o(h=j)\\prod_{i=1}^D p^o(v_i^n|h=j)$. Nótese que se tiene una distribución por cada punto $v^n$ y la actualización, para cada una de ellas, sigue el mismo patrón. $v^n$ es un vector $(v_1^n,\\dots,v_D^n)$, cuyas componentes valen $0$ o $1$, y el valor de $p(v_i^n|h=j)$ dependerá del valor concreto de $v_i^n$; conviene agrupar las componentes atendiendo a ese valor, definiendo st0 = (v[:,n] == np.zeros(D)) (y lo mismo para 1). Por otro lado, para evitar errores numéricos que podrían surgir con el producto de tantos valores pequeños, conviene trabajar con logaritmos.\n",
    "$$\n",
    "\\log p^n(h=j|v^n) \\propto \\log p^o(h=j) + \\sum_{v_i^n=1} \\log p^o(v_i^n|h=j) + \\sum_{v_i^n=0} \\log p^o(v_i^n|h=j)\n",
    "$$\n",
    "Todos las probabilidades que aparecen en esa fórmula están a nuestra disposición y se trata de combinarlas con la ayuda de st0 y st1. Por último, esta fórmula trabaja con $h=j$; se podría tener un bucle que considere todos los posibles valores de $h$ pero es más eficiente vectorizarlo y calcular las probabilidades para todos los $h$ simultáneamente.\n",
    "\n",
    "Un último detalle a tener en cuenta es permitir que puedan faltar datos (algunas de las componentes $v_i^n$), como se analizó en el ejercicio 20.1."
   ]
  },
  {
   "cell_type": "code",
   "execution_count": 39,
   "id": "f660f450-89a8-44f3-9fe5-92ef58c86abb",
   "metadata": {},
   "outputs": [],
   "source": [
    "def MIXprodBern(v, H, opts):\n",
    "    \"\"\"\n",
    "    MIXprodBern: Algoritmo EM para entrenar una mezcla de productos de distribuciones de Bernoulli.\n",
    "    [ph, pvgh, loglik, phgv] = MIXprodBern(v, H, opts)\n",
    "    \n",
    "    Parámetros:\n",
    "    v : Matriz de datos (cada columna es una muestra).\n",
    "    H : Número de componentes en la mezcla.\n",
    "    opts: Diccionario con parámetros adicionales:\n",
    "        opts.maxit : Número máximo de iteraciones.\n",
    "        opts.meaninit: Si 1, inicializar las probabilidades con las medias.\n",
    "\n",
    "    Retorna:\n",
    "    ph : p(h), probabilidades de los componentes.\n",
    "    pvgh : p(v|h), probabilidades condicionales de las respuestas.\n",
    "    loglik : Verosimilitud logarítmica del conjunto de datos en cada iteración.\n",
    "    phgv : p(h|v), asignación posterior de los datos a los componentes de la mezcla.\n",
    "    \"\"\"\n",
    "\n",
    "    # Dimensiones de los datos\n",
    "    D, N = v.shape  # D: número de preguntas, N: número de respuestas (personas)\n",
    "\n",
    "    # Inicialización de parámetros\n",
    "    rng = np.random.default_rng()  # Generador de números aleatorios\n",
    "    if opts['meaninit'] == 1:\n",
    "        # Inicialización con las medias de los datos más un pequeño ruido aleatorio\n",
    "        ph = np.ones(H) / H  # Inicialización uniforme de p(h)\n",
    "        pvgh = v.mean(axis=1)[:, np.newaxis] + 0.001 * rng.random((D, H))\n",
    "        pvgh = pvgh / pvgh.sum(axis=0)  # Normalizar para garantizar que sea una distribución válida\n",
    "    else:\n",
    "        # Inicialización aleatoria\n",
    "        ph = rng.random(H)\n",
    "        ph /= ph.sum()  # Normalizar para garantizar que sea una distribución válida\n",
    "        pvgh = rng.random((D, H))\n",
    "        pvgh /= pvgh.sum(axis=0)  # Normalizar por columnas\n",
    "\n",
    "    # Preparar almacenamiento de la verosimilitud logarítmica\n",
    "    lik = np.zeros(opts['maxit'])\n",
    "    phgv = np.zeros((H, N))\n",
    "\n",
    "    # Bucle de iteraciones EM\n",
    "    for emloop in range(opts['maxit']):\n",
    "        # Variables acumuladoras para el paso M\n",
    "        htot = np.zeros(H)  # Contador de responsabilidades para cada componente\n",
    "        vhtot1 = np.zeros((D, H))  # Acumulador para p(v_i=1|h)\n",
    "        vhtot0 = np.zeros((D, H))  # Acumulador para p(v_i=0|h)\n",
    "        loglik = 0  # Inicializar la verosimilitud logarítmica\n",
    "D\n",
    "        # Paso E: calcular responsabilidades\n",
    "        for n in range(N):\n",
    "            # Crear una máscara para los datos observados (no faltantes), los missing toman valor 0.5 en v\n",
    "            observed = v[:, n] != 0.5\n",
    "            v_n = v[:, n]\n",
    "\n",
    "            # Calcular el logaritmo de p(v|h) para cada h\n",
    "            log_p_v_given_h = np.zeros(H)\n",
    "            for h in range(H):\n",
    "                log_p_v_given_h[h] = np.log(ph[h]) \\\n",
    "                                     + np.sum(np.log(pvgh[observed, h]) * v_n[observed]) \\\n",
    "                                     + np.sum(np.log(1 - pvgh[observed, h]) * (1 - v_n[observed]))\n",
    "\n",
    "            # Normalizar para evitar problemas numéricos(se hace asi siempre)\n",
    "            phgv[:, n] = np.exp(log_p_v_given_h - logsumexp(log_p_v_given_h))\n",
    "\n",
    "            # Acumular las responsabilidades para el paso M\n",
    "            htot += phgv[:, n]\n",
    "            vhtot1[:, :] += np.outer(v_n == 1, phgv[:, n])  # Acumular para respuestas iguales a 1\n",
    "            vhtot0[:, :] += np.outer(v_n == 0, phgv[:, n])  # Acumular para respuestas iguales a 0\n",
    "\n",
    "            # Actualizar la verosimilitud logarítmica\n",
    "            loglik += logsumexp(log_p_v_given_h)\n",
    "\n",
    "        # Paso M: actualizar los parámetros p(h) y p(v|h)\n",
    "        ph = htot / htot.sum()  # Normalizar p(h)\n",
    "        pvgh = vhtot1 / (vhtot1 + vhtot0)  # Actualizar p(v|h)\n",
    "\n",
    "        # Guardar la verosimilitud de esta iteración\n",
    "        lik[emloop] = loglik\n",
    "\n",
    "    return ph, pvgh, lik, phgv"
   ]
  },
  {
   "cell_type": "markdown",
   "id": "e4b76366-27d1-4b2d-9cc2-c846e844d7c8",
   "metadata": {},
   "source": [
    "### Generación de datos.\n",
    "\n",
    "150 entrevistados y 5 preguntas por encuesta. Se supone que hay dos tipos de entrevistados."
   ]
  },
  {
   "cell_type": "code",
   "execution_count": 40,
   "id": "462a36fa-fac3-4e65-81ce-10800a543c96",
   "metadata": {},
   "outputs": [],
   "source": [
    "# Distribuciones reales.\n",
    "ph_true = np.array([0.3, 0.7])\n",
    "pvgh_true = np.array([[0.87, 0.82, 0.2, 0.22, 0.2], [0.2,  0.2, 0.82, 0.85, 0.19]]).T\n",
    "\n",
    "# Crear generador de números.\n",
    "rng = np.random.default_rng()\n",
    "\n",
    "D = 5 # dimensión de cada muestra\n",
    "customers = 150\n",
    "noise = 0.25\n",
    "max_miss = 2 # máximo número de valores que pueden faltar por muestra\n",
    "\n",
    "# Inicializar arrays.\n",
    "responses = np.zeros((D,customers))\n",
    "h_sample = np.zeros(customers, dtype=int)\n",
    "\n",
    "for n in range(customers):\n",
    "    # Generar el estado latente.\n",
    "    h_sample[n] = rng.choice(len(ph_true), p=ph_true)\n",
    "    \n",
    "    # Generar datos a partir de p(v|h)\n",
    "    responses[:, n] = rng.random(D) < pvgh_true[:, h_sample[n]]\n",
    "\n",
    "    # Simular datos que faltan.\n",
    "    miss = rng.integers(max_miss + 1)  # número de entradas que faltan\n",
    "    miss_indices = rng.choice(D, miss, replace=False)\n",
    "    responses[miss_indices, n] = 0.5  # codificar dato que falta como 0.5"
   ]
  },
  {
   "cell_type": "code",
   "execution_count": 41,
   "id": "6d465436-720c-4a76-b512-ea5e38564173",
   "metadata": {},
   "outputs": [
    {
     "data": {
      "text/plain": [
       "<matplotlib.image.AxesImage at 0x16931780710>"
      ]
     },
     "execution_count": 41,
     "metadata": {},
     "output_type": "execute_result"
    },
    {
     "data": {
      "image/png": "[encoded data removed]",
      "text/plain": [
       "<Figure size 1300x200 with 1 Axes>"
      ]
     },
     "metadata": {},
     "output_type": "display_data"
    }
   ],
   "source": [
    "fig, ax = plt.subplots(1, 1, figsize = (13,2))\n",
    "ax.imshow(responses, aspect='auto', cmap='gray_r', interpolation='none')"
   ]
  },
  {
   "cell_type": "markdown",
   "id": "ecaa0ba6-f8a9-4402-b048-6fb54ce6c662",
   "metadata": {},
   "source": [
    "Ejecutar EM para encontrar los dos tipos de entrevistados"
   ]
  },
  {
   "cell_type": "code",
   "execution_count": 42,
   "id": "add49a9d-de6d-4856-b817-0ea5803ac044",
   "metadata": {},
   "outputs": [],
   "source": [
    "opts = {\"maxit\" : 200,\n",
    "        \"meaninit\" : 0,\n",
    "       }"
   ]
  },
  {
   "cell_type": "code",
   "execution_count": 43,
   "id": "f25494a0-ab13-4644-ab37-9851274fd168",
   "metadata": {},
   "outputs": [
    {
     "name": "stdout",
     "output_type": "stream",
     "text": [
      "Mejor log-verosimilitud: -324.4351394301322\n",
      "Mejores probabilidades p(h): [0.35568625 0.64431375]\n",
      "Mejores probabilidades p(v|h): [[0.95393167 0.22434607]\n",
      " [0.71013237 0.17119137]\n",
      " [0.19731691 0.84100332]\n",
      " [0.08716422 0.910138  ]\n",
      " [0.26336076 0.11177333]]\n"
     ]
    }
   ],
   "source": [
    "# Realizamos varias ejecuciones (para intentar evitar máximos locales):\n",
    "nruns = 4\n",
    "best_loglik = float('-inf')  # Guardar el mejor valor de log-verosimilitud\n",
    "best_ph, best_pvgh, best_phgv = None, None, None  # Para almacenar los mejores resultados\n",
    "\n",
    "for i in range(nruns):\n",
    "    ph, pvgh, lik, phgv = MIXprodBern(responses, H=2, opts=opts)\n",
    "\n",
    "    # Verificar si la ejecución actual es mejor\n",
    "    if lik[-1] > best_loglik:\n",
    "        best_loglik = lik[-1]  # Actualizar mejor log-verosimilitud\n",
    "        best_ph = ph\n",
    "        best_pvgh = pvgh\n",
    "        best_phgv = phgv\n",
    "\n",
    "# Resultados finales: ph, pvgh y phgv correspondientes a la mejor ejecución\n",
    "print(\"Mejor log-verosimilitud:\", best_loglik)\n",
    "print(\"Mejores probabilidades p(h):\", best_ph)\n",
    "print(\"Mejores probabilidades p(v|h):\", best_pvgh)"
   ]
  },
  {
   "cell_type": "code",
   "execution_count": 44,
   "id": "b4d3ea66-99df-4ff1-94c7-60a7ede850a2",
   "metadata": {},
   "outputs": [
    {
     "data": {
      "text/plain": [
       "(array([0.64431375, 0.35568625]), array([0.3, 0.7]))"
      ]
     },
     "execution_count": 44,
     "metadata": {},
     "output_type": "execute_result"
    }
   ],
   "source": [
    "ph, ph_true"
   ]
  },
  {
   "cell_type": "markdown",
   "id": "28bb8eb3-c29d-44c7-a06f-aa26473cddb8",
   "metadata": {},
   "source": [
    "Reordenamos los vectores en orden creciente de probabilidad de las variables latentes para facilitar la comparación gráfica con los valores reales."
   ]
  },
  {
   "cell_type": "code",
   "execution_count": 45,
   "id": "878e4e6d-a110-45f4-af87-25f3e4d96937",
   "metadata": {},
   "outputs": [],
   "source": [
    "sort_indices = np.argsort(ph)\n",
    "ph_sorted = ph[sort_indices]\n",
    "pvgh_sorted = pvgh[:,sort_indices]\n",
    "phgv_sorted = phgv[sort_indices,:]"
   ]
  },
  {
   "cell_type": "markdown",
   "id": "165b3604-f771-4387-b7fa-81041a7283e8",
   "metadata": {},
   "source": [
    "Comparemos el valor real de $p(v|h)$ (a la izquierda) con su aproximación (a la derecha). El color rojo representa la primera variable latente y el color verde, la otra."
   ]
  },
  {
   "cell_type": "code",
   "execution_count": 46,
   "id": "23ceba0f-2074-4446-af79-2f2393c488c1",
   "metadata": {
    "scrolled": true
   },
   "outputs": [
    {
     "data": {
      "text/plain": [
       "<BarContainer object of 5 artists>"
      ]
     },
     "execution_count": 46,
     "metadata": {},
     "output_type": "execute_result"
    },
    {
     "data": {
      "image/png": "[encoded data removed]",
      "text/plain": [
       "<Figure size 600x200 with 2 Axes>"
      ]
     },
     "metadata": {},
     "output_type": "display_data"
    }
   ],
   "source": [
    "barWidth = 0.2\n",
    "fig, axs = plt.subplots(1, 2, figsize =(6, 2)) \n",
    "  \n",
    "# Set position of bar on X axis \n",
    "br1 = np.arange(len(pvgh_true[:,0])) \n",
    "br2 = [x + barWidth for x in br1] \n",
    " \n",
    "# Construir la figura\n",
    "axs[0].bar(br1, pvgh_true[:,1], color ='r', width = barWidth, edgecolor ='grey') \n",
    "axs[0].bar(br2, pvgh_true[:,0], color ='g', width = barWidth, edgecolor ='grey')  \n",
    "\n",
    "axs[1].bar(br1, pvgh_sorted[:,1], color ='r', width = barWidth, edgecolor ='grey') \n",
    "axs[1].bar(br2, pvgh_sorted[:,0], color ='g', width = barWidth, edgecolor ='grey')  "
   ]
  },
  {
   "cell_type": "markdown",
   "id": "094ea220-8b50-431b-bdce-b57f72462401",
   "metadata": {},
   "source": [
    "La primera subfigura muestra los valores correctos de h tal y como fueron muestreados. La tercera muestra la estimación $p(h^n=1|v^n)$."
   ]
  },
  {
   "cell_type": "code",
   "execution_count": 38,
   "id": "4ef7c58d-aacb-449a-8f32-581cb6dadd64",
   "metadata": {},
   "outputs": [
    {
     "data": {
      "text/plain": [
       "<BarContainer object of 150 artists>"
      ]
     },
     "execution_count": 38,
     "metadata": {},
     "output_type": "execute_result"
    },
    {
     "data": {
      "image/png": "[encoded data removed]",
      "text/plain": [
       "<Figure size 1300x400 with 3 Axes>"
      ]
     },
     "metadata": {},
     "output_type": "display_data"
    }
   ],
   "source": [
    "fig, axs = plt.subplots(3, 1, figsize = (13,4))\n",
    "\n",
    "br1 = np.arange(len(h_sample)) \n",
    "axs[0].bar(br1, h_sample, color ='r', width = barWidth, edgecolor ='red') \n",
    "axs[1].bar(br1, phgv_sorted[0], color ='r', width = barWidth, edgecolor ='red')\n",
    "axs[2].bar(br1, phgv_sorted[1], color ='r', width = barWidth, edgecolor ='red')"
   ]
  },
  {
   "cell_type": "code",
   "execution_count": null,
   "id": "0a3f62ee-393f-408b-a71b-202cec60b462",
   "metadata": {},
   "outputs": [],
   "source": []
  }
 ],
 "metadata": {
  "kernelspec": {
   "display_name": "Python 3 (ipykernel)",
   "language": "python",
   "name": "python3"
  },
  "language_info": {
   "codemirror_mode": {
    "name": "ipython",
    "version": 3
   },
   "file_extension": ".py",
   "mimetype": "text/x-python",
   "name": "python",
   "nbconvert_exporter": "python",
   "pygments_lexer": "ipython3",
   "version": "3.12.2"
  }
 },
 "nbformat": 4,
 "nbformat_minor": 5
}
