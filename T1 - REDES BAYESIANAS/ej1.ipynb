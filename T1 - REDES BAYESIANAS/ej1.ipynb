{
 "cells": [
  {
   "cell_type": "markdown",
   "id": "13bab7cf-826b-4126-8764-e5986abd0478",
   "metadata": {},
   "source": [
    "De: Mario López Díaz e Ignacio Gutiérrez Sánchez"
   ]
  },
  {
   "cell_type": "code",
   "execution_count": 4,
   "id": "b7e752c4-82ce-4b8c-aaf0-cc92802d13e5",
   "metadata": {},
   "outputs": [],
   "source": [
    "import pyAgrum as gum\n",
    "import numpy as np"
   ]
  },
  {
   "cell_type": "markdown",
   "id": "caa8d601-3ce1-43d7-9a72-e44608b35c3c",
   "metadata": {},
   "source": [
    "Ejercicio 3.1"
   ]
  },
  {
   "cell_type": "code",
   "execution_count": 5,
   "id": "91dfe9ad-e341-4f4f-9ce0-94509b9d8561",
   "metadata": {},
   "outputs": [
    {
     "name": "stdout",
     "output_type": "stream",
     "text": [
      "La probabilidad de que el trabajador haya ido a una fiesta dado que el jefe está enojado y tiene dolor de cabeza es: 0.6096595605366815 y la de que no es: 0.3903404394633187\n"
     ]
    }
   ],
   "source": [
    "bn = gum.BayesNet()\n",
    "bn.add('A', 2)\n",
    "bn.add('H', 2)\n",
    "bn.add('P', 2)\n",
    "bn.add('U', 2)\n",
    "bn.add('D', 2)\n",
    "\n",
    "bn.addArc('P', 'H')\n",
    "bn.addArc('U', 'A')\n",
    "bn.addArc('P', 'U')\n",
    "bn.addArc('D', 'U')\n",
    "\n",
    "bn.cpt('P').fillWith([0.8, 0.2])\n",
    "bn.cpt('D').fillWith([0.6, 0.4])\n",
    "bn.cpt('U')[{'P': 1, 'D': 1}] = [0.001, 0.999]\n",
    "bn.cpt('U')[{'P': 1, 'D': 0}] = [0.1, 0.9]\n",
    "bn.cpt('A')[{'U': 1}] = [0.05, 0.95]\n",
    "bn.cpt('U')[{'P': 0, 'D': 1}] = [0.1, 0.9]\n",
    "bn.cpt('U')[{'P': 0, 'D': 0}] = [0.99, 0.01]\n",
    "bn.cpt('A')[{'U': 0}] = [0.5, 0.5]\n",
    "bn.cpt('H')[{'P': 1}] = [0.1, 0.9]\n",
    "bn.cpt('H')[{'P': 0}] = [0.8, 0.2]\n",
    "\n",
    "\n",
    "ie = gum.LazyPropagation(bn)\n",
    "ie.setEvidence({'A': 1, 'H': 1})\n",
    "ie.makeInference()\n",
    "prob_P_tr = ie.posterior('P')[1]\n",
    "prob_P_fa = ie.posterior('P')[0]\n",
    "\n",
    "print(f\"La probabilidad de que el trabajador haya ido a una fiesta dado que el jefe está enojado y tiene dolor de cabeza es: {prob_P_tr} y la de que no es: {prob_P_fa}\")"
   ]
  },
  {
   "cell_type": "markdown",
   "id": "23fe6076-cba4-4454-9522-2b4b2aaae7e6",
   "metadata": {},
   "source": [
    "Ejercicio 3.3"
   ]
  },
  {
   "cell_type": "code",
   "execution_count": 6,
   "id": "45652de4-7ba5-429e-9850-ffaddbb61aff",
   "metadata": {},
   "outputs": [
    {
     "name": "stdout",
     "output_type": "stream",
     "text": [
      "Tuberculosis ⊥⊥ Smoking | Shortness of Breath: False\n",
      "La disnea no bloquea la relación entre tuberculosis y tabaquismo, ya que ambos pueden influir en los mismos síntomas.\n",
      "\n",
      "Lung Cancer ⊥⊥ Bronchitis | Smoking: True\n",
      "Con el tabaquismo como evidencia, cáncer de pulmón y bronquitis son independientes, porque su conexión pasa a través de otros factores que no se consideran en esta relación.\n",
      "\n",
      "Visit to Asia ⊥⊥ Smoking | Lung Cancer: True\n",
      "Conociendo el estado del cáncer de pulmón, visitar Asia y fumar son independientes, ya que no hay un vínculo directo entre ellos en este contexto.\n",
      "\n",
      "Visit to Asia ⊥⊥ Smoking | Lung Cancer, Shortness of Breath: False\n",
      "Aunque se conoce el cáncer de pulmón y la disnea, hay rutas que conectan visitar Asia y fumar, por lo que no son independientes en este caso.\n"
     ]
    }
   ],
   "source": [
    "bn = gum.BayesNet()\n",
    "bn.add('A', 2)\n",
    "bn.add('T', 2)\n",
    "bn.add('E', 2)\n",
    "bn.add('X', 2)\n",
    "bn.add('L', 2)\n",
    "bn.add('S', 2)\n",
    "bn.add('B', 2)\n",
    "bn.add('D', 2)\n",
    "\n",
    "bn.addArc('A', 'T')\n",
    "bn.addArc('T', 'E')\n",
    "bn.addArc('E', 'X')\n",
    "bn.addArc('L', 'E')\n",
    "bn.addArc('S', 'L')\n",
    "bn.addArc('S', 'B')\n",
    "bn.addArc('E', 'D')\n",
    "bn.addArc('B', 'D')\n",
    "\n",
    "\n",
    "ie = gum.LazyPropagation(bn)\n",
    "\n",
    "print(\"Tuberculosis ⊥⊥ Smoking | Shortness of Breath:\", \n",
    "      bn.isIndependent(\"T\", \"S\",{\"D\"}))\n",
    "\n",
    "print(\"La disnea no bloquea la relación entre tuberculosis y tabaquismo, ya que ambos pueden influir en los mismos síntomas.\\n\")\n",
    "\n",
    "print(\"Lung Cancer ⊥⊥ Bronchitis | Smoking:\", \n",
    "      bn.isIndependent(\"L\", \"B\",{\"S\"}))\n",
    "\n",
    "print(\"Con el tabaquismo como evidencia, cáncer de pulmón y bronquitis son independientes, porque su conexión pasa a través de otros factores que no se consideran en esta relación.\\n\")\n",
    "\n",
    "print(\"Visit to Asia ⊥⊥ Smoking | Lung Cancer:\", \n",
    "      bn.isIndependent(\"A\", \"S\", {\"L\"}))\n",
    "\n",
    "print(\"Conociendo el estado del cáncer de pulmón, visitar Asia y fumar son independientes, ya que no hay un vínculo directo entre ellos en este contexto.\\n\")\n",
    "\n",
    "print(\"Visit to Asia ⊥⊥ Smoking | Lung Cancer, Shortness of Breath:\", \n",
    "      bn.isIndependent(\"A\", \"S\", {\"L\", \"D\"}))\n",
    "\n",
    "print(\"Aunque se conoce el cáncer de pulmón y la disnea, hay rutas que conectan visitar Asia y fumar, por lo que no son independientes en este caso.\")"
   ]
  },
  {
   "cell_type": "markdown",
   "id": "2244a02a-95c1-4f2f-9326-2329b47cb779",
   "metadata": {},
   "source": [
    "Ejercicio 3.4"
   ]
  },
  {
   "cell_type": "code",
   "execution_count": 7,
   "id": "4fcf88f1-b902-4f4c-8445-206fb3872784",
   "metadata": {},
   "outputs": [
    {
     "name": "stdout",
     "output_type": "stream",
     "text": [
      "P(D): 0.43597059999999993\n",
      "P(D | S = tr): 0.552808\n",
      "P(D | S = fa): 0.3191332\n"
     ]
    }
   ],
   "source": [
    "bn = gum.BayesNet()\n",
    "bn.add('A', 2)\n",
    "bn.add('T', 2)\n",
    "bn.add('E', 2)\n",
    "bn.add('X', 2)\n",
    "bn.add('L', 2)\n",
    "bn.add('S', 2)\n",
    "bn.add('B', 2)\n",
    "bn.add('D', 2)\n",
    "\n",
    "bn.addArc('A', 'T')\n",
    "bn.addArc('T', 'E')\n",
    "bn.addArc('E', 'X')\n",
    "bn.addArc('L', 'E')\n",
    "bn.addArc('S', 'L')\n",
    "bn.addArc('S', 'B')\n",
    "bn.addArc('E', 'D')\n",
    "bn.addArc('B', 'D')\n",
    "\n",
    "bn.cpt('A').fillWith([0.99, 0.01])  \n",
    "bn.cpt('S').fillWith([0.5, 0.5])   \n",
    "bn.cpt('T')[{'A': 1}] = [0.95, 0.05]\n",
    "bn.cpt('T')[{'A': 0}] = [0.99, 0.01] \n",
    "bn.cpt('L')[{'S': 1}] = [0.9, 0.1]   \n",
    "bn.cpt('L')[{'S': 0}] = [0.99, 0.01]  \n",
    "bn.cpt('B')[{'S': 1}] = [0.4, 0.6,]    \n",
    "bn.cpt('B')[{'S': 0}] = [0.7, 0.3]   \n",
    "bn.cpt('X')[{'E': 1}] = [0.02, 0.98]   \n",
    "bn.cpt('X')[{'E': 0}] = [0.95, 0.05]  \n",
    "bn.cpt('D')[{'E': 1, 'B': 1}] = [0.1, 0.9] \n",
    "bn.cpt('D')[{'E': 1, 'B': 0}] = [0.3, 0.7]   \n",
    "bn.cpt('D')[{'E': 0, 'B': 1}] = [0.2, 0.8]   \n",
    "bn.cpt('D')[{'E': 0, 'B': 0}] = [0.9, 0.1]  \n",
    "\n",
    "bn.cpt('E')[{'T': 1, 'L': 1}] = [0.0, 1.0] \n",
    "bn.cpt('E')[{'T': 1, 'L': 0}] = [0.0, 1.0]  \n",
    "bn.cpt('E')[{'T': 0, 'L': 1}] = [0.0, 1.0]  \n",
    "bn.cpt('E')[{'T': 0, 'L': 0}] = [1.0, 0.0]  \n",
    "\n",
    "ie = gum.LazyPropagation(bn)\n",
    "ie.makeInference()\n",
    "p_d = ie.posterior('D')[1]  \n",
    "print(\"P(D):\", p_d)\n",
    "\n",
    "ie.setEvidence({'S': 1}) \n",
    "ie.makeInference()\n",
    "p_d_given_s_tr = ie.posterior('D')[1]\n",
    "print(\"P(D | S = tr):\", p_d_given_s_tr)\n",
    "\n",
    "ie.setEvidence({'S': 0}) \n",
    "ie.makeInference()\n",
    "p_d_given_s_fa = ie.posterior('D')[1]\n",
    "print(\"P(D | S = fa):\", p_d_given_s_fa)\n"
   ]
  },
  {
   "cell_type": "markdown",
   "id": "7f73cd55-2d38-4f4c-bd85-9b5fd6a23a63",
   "metadata": {},
   "source": [
    "3.11"
   ]
  },
  {
   "cell_type": "markdown",
   "id": "192d044c-6269-4cd5-89da-d6dda9726fee",
   "metadata": {},
   "source": [
    "El problema se puede solucionar estableciendo una relación entre el nodo de terremoto y el nodo de robo (Burglar) y modificar las probabilidades condicionales del nodo de robo para incluir la influencia del nodo de terremoto. "
   ]
  },
  {
   "cell_type": "markdown",
   "id": "43f61902-8289-46aa-9c37-b9f2f74c021b",
   "metadata": {},
   "source": [
    "3.15"
   ]
  },
  {
   "cell_type": "code",
   "execution_count": 8,
   "id": "ff925c64-0d84-4f17-bd55-1924025e94a2",
   "metadata": {},
   "outputs": [
    {
     "name": "stdout",
     "output_type": "stream",
     "text": [
      "BN{nodes: 5, arcs: 6, domainSize: 48, dim: 15, mem: 224o}\n",
      "P(Inflation = high | BP = normal, Retailer Stock Price = high): 0.015098108085334308\n"
     ]
    }
   ],
   "source": [
    "import pyAgrum as gum\n",
    "\n",
    "bn = gum.BayesNet('Oil-Inflation-Economy')\n",
    "\n",
    "bn.add('Eh', 2)\n",
    "bn.add('O', 2)  \n",
    "bn.add('Inf', 2) \n",
    "bn.add('BP', 3)  \n",
    "bn.add('Rt', 2)  \n",
    "\n",
    "bn.addArc('Eh', 'O')\n",
    "bn.addArc('Eh', 'Inf')\n",
    "bn.addArc('O', 'BP')\n",
    "bn.addArc('O', 'Inf')\n",
    "bn.addArc('Eh', 'Rt')\n",
    "bn.addArc('Inf', 'Rt')\n",
    "\n",
    "bn.cpt('Eh').fillWith([0.8, 0.2])  \n",
    "\n",
    "bn.cpt('O')[{'Eh': 0}] = [0.1, 0.9]  \n",
    "bn.cpt('O')[{'Eh': 1}] = [0.95, 0.05] \n",
    "\n",
    "bn.cpt('Inf')[{'O': 0, 'Eh': 0}] = [0.1, 0.9] \n",
    "bn.cpt('Inf')[{'O': 0, 'Eh': 1}] = [0.9, 0.1]  \n",
    "bn.cpt('Inf')[{'O': 1, 'Eh': 0}] = [0.9, 0.1]  \n",
    "bn.cpt('Inf')[{'O': 1, 'Eh': 1}] = [0.99, 0.01]\n",
    "\n",
    "bn.cpt('BP')[{'O': 0}] = [0.0, 0.1, 0.9]  \n",
    "bn.cpt('BP')[{'O': 1}] = [0.5, 0.4, 0.1]  \n",
    "\n",
    "bn.cpt('Rt')[{'Inf': 0, 'Eh': 0}] = [0.1, 0.9]  \n",
    "bn.cpt('Rt')[{'Inf': 0, 'Eh': 1}] = [0.9, 0.1]  \n",
    "bn.cpt('Rt')[{'Inf': 1, 'Eh': 0}] = [0.9, 0.1] \n",
    "bn.cpt('Rt')[{'Inf': 1, 'Eh': 1}] = [0.99, 0.01] \n",
    "\n",
    "print(bn)\n",
    "\n",
    "ie = gum.LazyPropagation(bn)\n",
    "ie.setEvidence({'BP': 1, 'Rt': 1})  \n",
    "ie.makeInference()\n",
    "\n",
    "prob_inf_high = ie.posterior('Inf')[1] \n",
    "\n",
    "print(\"P(Inflation = high | BP = normal, Retailer Stock Price = high):\", prob_inf_high)"
   ]
  },
  {
   "cell_type": "markdown",
   "id": "2e6a9475-9f1d-4a80-830b-f36a07988940",
   "metadata": {},
   "source": [
    "3.21"
   ]
  },
  {
   "cell_type": "markdown",
   "id": "488fe312-8fd6-4634-84a4-da3e33db0f05",
   "metadata": {},
   "source": [
    "#### Apartado 1\n",
    "\n",
    "La red de creencias se puede estructurar de la siguiente manera:\n",
    "\n",
    "##### Nodos\n",
    "- **Niveles de habilidad**:\n",
    "  - \\( S_A \\) (Jugador A)\n",
    "  - \\( S_B \\) (Jugador B)\n",
    "  - \\( S_C \\) (Jugador C)\n",
    "  - \\( S_D \\) (Jugador D)\n",
    "\n",
    "- **Resultados de los partidos**:\n",
    "  - \\( G_{AB} \\) (A gana a B)\n",
    "  - \\( G_{AC} \\) (A gana a C)\n",
    "  - \\( G_{BC} \\) (B gana a C)\n",
    "  - \\( G_{CA} \\) (C gana a A)\n",
    "  - \\( G_{CD} \\) (C gana a D)\n",
    "\n",
    "##### Aristas\n",
    "- \\( S_A -> G_{AB} \\)\n",
    "- \\( S_A -> G_{AC} \\)\n",
    "- \\( S_B -> G_{AB} \\)\n",
    "- \\( S_B -> G_{BC} \\)\n",
    "- \\( S_C -> G_{AC} \\)\n",
    "- \\( S_C -> G_{BC} \\)\n",
    "- \\( S_C ->to G_{CA} \\)\n",
    "- \\( S_C -> G_{CD} \\)\n",
    "- \\( S_D -> G_{CD} \\)\n"
   ]
  },
  {
   "cell_type": "markdown",
   "id": "faf4a7cd",
   "metadata": {},
   "source": [
    "**Apartado 2**\n",
    "\n",
    "\n",
    "Para evaluar si los niveles de habilidad son independientes a posteriori, es necesario analizar la evidencia derivada de los resultados de los partidos. A partir de estos resultados, los niveles de habilidad pueden afectarse entre sí, ya que revelan información sobre las capacidades de los jugadores."
   ]
  },
  {
   "cell_type": "markdown",
   "id": "caa65eb2",
   "metadata": {},
   "source": [
    "**Apartado 3**"
   ]
  },
  {
   "cell_type": "code",
   "execution_count": 20,
   "id": "69ce50f8",
   "metadata": {},
   "outputs": [],
   "source": [
    "bn = gum.BayesNet()\n",
    "\n",
    "bn.add('S_A', 10)  \n",
    "bn.add('S_B', 10)  \n",
    "bn.add('S_C', 10) \n",
    "bn.add('S_D', 10)  \n",
    "\n",
    "bn.add('G_AB_1', 2)\n",
    "bn.add('G_AB_2', 2) \n",
    "bn.add('G_BC_1', 2) \n",
    "bn.add('G_BC_2', 2) \n",
    "bn.add('G_AC_1', 2) \n",
    "bn.add('G_AC_2', 2)\n",
    "bn.add('G_CA_1', 2)  \n",
    "bn.add('G_CD_1', 2)\n",
    "bn.add('G_CD_2', 2) \n",
    "\n",
    "\n",
    "bn.addArc('S_A', 'G_AB_1')\n",
    "bn.addArc('S_B', 'G_AB_1')\n",
    "bn.addArc('S_A', 'G_AB_2')\n",
    "bn.addArc('S_B', 'G_AB_2')\n",
    "\n",
    "bn.addArc('S_B', 'G_BC_1')\n",
    "bn.addArc('S_C', 'G_BC_1')\n",
    "bn.addArc('S_B', 'G_BC_2')\n",
    "bn.addArc('S_C', 'G_BC_2')\n",
    "\n",
    "bn.addArc('S_A', 'G_AC_1')\n",
    "bn.addArc('S_C', 'G_AC_1')\n",
    "bn.addArc('S_A', 'G_AC_2')\n",
    "bn.addArc('S_C', 'G_AC_2')\n",
    "\n",
    "bn.addArc('S_C', 'G_CA_1')\n",
    "bn.addArc('S_A', 'G_CA_1')\n",
    "\n",
    "bn.addArc('S_C', 'G_CD_1')\n",
    "bn.addArc('S_D', 'G_CD_1')\n",
    "bn.addArc('S_C', 'G_CD_2')\n",
    "bn.addArc('S_D', 'G_CD_2')"
   ]
  },
  {
   "cell_type": "markdown",
   "id": "35b643c9",
   "metadata": {},
   "source": [
    "Segun la formula dada"
   ]
  },
  {
   "cell_type": "code",
   "execution_count": 17,
   "id": "05a284cd",
   "metadata": {},
   "outputs": [],
   "source": [
    "def match_prob(s_A, s_B):\n",
    "    return 1 / (1 + np.exp(s_B - s_A))"
   ]
  },
  {
   "cell_type": "code",
   "execution_count": 18,
   "id": "8741440a",
   "metadata": {},
   "outputs": [
    {
     "ename": "SizeError",
     "evalue": "[pyAgrum] incorrect size: Sizes do not match : 200!=100",
     "output_type": "error",
     "traceback": [
      "\u001b[1;31m---------------------------------------------------------------------------\u001b[0m",
      "\u001b[1;31mSizeError\u001b[0m                                 Traceback (most recent call last)",
      "\u001b[1;32m~\\AppData\\Local\\Temp\\ipykernel_41288\\2370039740.py\u001b[0m in \u001b[0;36m?\u001b[1;34m()\u001b[0m\n\u001b[1;32m----> 1\u001b[1;33m \u001b[0mbn\u001b[0m\u001b[1;33m.\u001b[0m\u001b[0mcpt\u001b[0m\u001b[1;33m(\u001b[0m\u001b[1;34m'G_AB'\u001b[0m\u001b[1;33m)\u001b[0m\u001b[1;33m.\u001b[0m\u001b[0mfillWith\u001b[0m\u001b[1;33m(\u001b[0m\u001b[1;33m[\u001b[0m\u001b[0mmatch_prob\u001b[0m\u001b[1;33m(\u001b[0m\u001b[0ms_A\u001b[0m\u001b[1;33m,\u001b[0m \u001b[0ms_B\u001b[0m\u001b[1;33m)\u001b[0m \u001b[1;32mfor\u001b[0m \u001b[0ms_A\u001b[0m \u001b[1;32min\u001b[0m \u001b[0mrange\u001b[0m\u001b[1;33m(\u001b[0m\u001b[1;36m10\u001b[0m\u001b[1;33m)\u001b[0m \u001b[1;32mfor\u001b[0m \u001b[0ms_B\u001b[0m \u001b[1;32min\u001b[0m \u001b[0mrange\u001b[0m\u001b[1;33m(\u001b[0m\u001b[1;36m10\u001b[0m\u001b[1;33m)\u001b[0m\u001b[1;33m]\u001b[0m\u001b[1;33m)\u001b[0m\u001b[1;33m[\u001b[0m\u001b[1;36m0\u001b[0m\u001b[1;33m]\u001b[0m\u001b[1;33m\u001b[0m\u001b[1;33m\u001b[0m\u001b[0m\n\u001b[0m\u001b[0;32m      2\u001b[0m \u001b[0mbn\u001b[0m\u001b[1;33m.\u001b[0m\u001b[0mcpt\u001b[0m\u001b[1;33m(\u001b[0m\u001b[1;34m'G_AB'\u001b[0m\u001b[1;33m)\u001b[0m\u001b[1;33m.\u001b[0m\u001b[0mfillWith\u001b[0m\u001b[1;33m(\u001b[0m\u001b[1;33m[\u001b[0m\u001b[1;36m1\u001b[0m \u001b[1;33m-\u001b[0m \u001b[0mmatch_prob\u001b[0m\u001b[1;33m(\u001b[0m\u001b[0ms_A\u001b[0m\u001b[1;33m,\u001b[0m \u001b[0ms_B\u001b[0m\u001b[1;33m)\u001b[0m \u001b[1;32mfor\u001b[0m \u001b[0ms_A\u001b[0m \u001b[1;32min\u001b[0m \u001b[0mrange\u001b[0m\u001b[1;33m(\u001b[0m\u001b[1;36m10\u001b[0m\u001b[1;33m)\u001b[0m \u001b[1;32mfor\u001b[0m \u001b[0ms_B\u001b[0m \u001b[1;32min\u001b[0m \u001b[0mrange\u001b[0m\u001b[1;33m(\u001b[0m\u001b[1;36m10\u001b[0m\u001b[1;33m)\u001b[0m\u001b[1;33m]\u001b[0m\u001b[1;33m)\u001b[0m\u001b[1;33m[\u001b[0m\u001b[1;36m1\u001b[0m\u001b[1;33m]\u001b[0m\u001b[1;33m\u001b[0m\u001b[1;33m\u001b[0m\u001b[0m\n\u001b[0;32m      3\u001b[0m \u001b[0mbn\u001b[0m\u001b[1;33m.\u001b[0m\u001b[0mcpt\u001b[0m\u001b[1;33m(\u001b[0m\u001b[1;34m'G_BC'\u001b[0m\u001b[1;33m)\u001b[0m\u001b[1;33m.\u001b[0m\u001b[0mfillWith\u001b[0m\u001b[1;33m(\u001b[0m\u001b[1;33m[\u001b[0m\u001b[0mmatch_prob\u001b[0m\u001b[1;33m(\u001b[0m\u001b[0ms_B\u001b[0m\u001b[1;33m,\u001b[0m \u001b[0ms_C\u001b[0m\u001b[1;33m)\u001b[0m \u001b[1;32mfor\u001b[0m \u001b[0ms_B\u001b[0m \u001b[1;32min\u001b[0m \u001b[0mrange\u001b[0m\u001b[1;33m(\u001b[0m\u001b[1;36m10\u001b[0m\u001b[1;33m)\u001b[0m \u001b[1;32mfor\u001b[0m \u001b[0ms_C\u001b[0m \u001b[1;32min\u001b[0m \u001b[0mrange\u001b[0m\u001b[1;33m(\u001b[0m\u001b[1;36m10\u001b[0m\u001b[1;33m)\u001b[0m\u001b[1;33m]\u001b[0m\u001b[1;33m)\u001b[0m\u001b[1;33m[\u001b[0m\u001b[1;36m0\u001b[0m\u001b[1;33m]\u001b[0m\u001b[1;33m\u001b[0m\u001b[1;33m\u001b[0m\u001b[0m\n\u001b[0;32m      4\u001b[0m \u001b[0mbn\u001b[0m\u001b[1;33m.\u001b[0m\u001b[0mcpt\u001b[0m\u001b[1;33m(\u001b[0m\u001b[1;34m'G_BC'\u001b[0m\u001b[1;33m)\u001b[0m\u001b[1;33m.\u001b[0m\u001b[0mfillWith\u001b[0m\u001b[1;33m(\u001b[0m\u001b[1;33m[\u001b[0m\u001b[1;36m1\u001b[0m \u001b[1;33m-\u001b[0m \u001b[0mmatch_prob\u001b[0m\u001b[1;33m(\u001b[0m\u001b[0ms_B\u001b[0m\u001b[1;33m,\u001b[0m \u001b[0ms_C\u001b[0m\u001b[1;33m)\u001b[0m \u001b[1;32mfor\u001b[0m \u001b[0ms_B\u001b[0m \u001b[1;32min\u001b[0m \u001b[0mrange\u001b[0m\u001b[1;33m(\u001b[0m\u001b[1;36m10\u001b[0m\u001b[1;33m)\u001b[0m \u001b[1;32mfor\u001b[0m \u001b[0ms_C\u001b[0m \u001b[1;32min\u001b[0m \u001b[0mrange\u001b[0m\u001b[1;33m(\u001b[0m\u001b[1;36m10\u001b[0m\u001b[1;33m)\u001b[0m\u001b[1;33m]\u001b[0m\u001b[1;33m)\u001b[0m\u001b[1;33m[\u001b[0m\u001b[1;36m1\u001b[0m\u001b[1;33m]\u001b[0m\u001b[1;33m\u001b[0m\u001b[1;33m\u001b[0m\u001b[0m\n",
      "\u001b[1;32m~\\anaconda3\\Lib\\site-packages\\pyAgrum\\pyAgrum.py\u001b[0m in \u001b[0;36m?\u001b[1;34m(self, *args)\u001b[0m\n\u001b[0;32m   9108\u001b[0m             \u001b[1;32melse\u001b[0m\u001b[1;33m:\u001b[0m\u001b[1;33m\u001b[0m\u001b[1;33m\u001b[0m\u001b[0m\n\u001b[0;32m   9109\u001b[0m               \u001b[1;32mraise\u001b[0m \u001b[0mpyAgrum\u001b[0m\u001b[1;33m.\u001b[0m\u001b[0mArgumentError\u001b[0m\u001b[1;33m(\u001b[0m\u001b[1;34mf\"[pyAgrum] keys in dict {tuple(d.keys())} does not match the Potential's variables {self.names}\"\u001b[0m\u001b[1;33m)\u001b[0m\u001b[1;33m\u001b[0m\u001b[1;33m\u001b[0m\u001b[0m\n\u001b[0;32m   9110\u001b[0m \u001b[1;33m\u001b[0m\u001b[0m\n\u001b[0;32m   9111\u001b[0m \u001b[1;33m\u001b[0m\u001b[0m\n\u001b[1;32m-> 9112\u001b[1;33m         \u001b[0mval\u001b[0m \u001b[1;33m=\u001b[0m \u001b[0m_pyAgrum\u001b[0m\u001b[1;33m.\u001b[0m\u001b[0mPotential_fillWith\u001b[0m\u001b[1;33m(\u001b[0m\u001b[0mself\u001b[0m\u001b[1;33m,\u001b[0m \u001b[1;33m*\u001b[0m\u001b[0margs\u001b[0m\u001b[1;33m)\u001b[0m\u001b[1;33m\u001b[0m\u001b[1;33m\u001b[0m\u001b[0m\n\u001b[0m\u001b[0;32m   9113\u001b[0m \u001b[1;33m\u001b[0m\u001b[0m\n\u001b[0;32m   9114\u001b[0m         \u001b[1;32mreturn\u001b[0m \u001b[0mself\u001b[0m\u001b[1;33m\u001b[0m\u001b[1;33m\u001b[0m\u001b[0m\n\u001b[0;32m   9115\u001b[0m \u001b[1;33m\u001b[0m\u001b[0m\n",
      "\u001b[1;31mSizeError\u001b[0m: [pyAgrum] incorrect size: Sizes do not match : 200!=100"
     ]
    }
   ],
   "source": [
    "bn.cpt('G_AB').fillWith([match_prob(s_A, s_B) for s_A in range(10) for s_B in range(10)])[0]\n",
    "bn.cpt('G_AB').fillWith([1 - match_prob(s_A, s_B) for s_A in range(10) for s_B in range(10)])[1]\n",
    "bn.cpt('G_BC').fillWith([match_prob(s_B, s_C) for s_B in range(10) for s_C in range(10)])[0]\n",
    "bn.cpt('G_BC').fillWith([1 - match_prob(s_B, s_C) for s_B in range(10) for s_C in range(10)])[1]\n",
    "bn.cpt('G_AC').fillWith([match_prob(s_A, s_C) for s_A in range(10) for s_C in range(10)])[0]\n",
    "bn.cpt('G_AC').fillWith([1 - match_prob(s_A, s_C) for s_A in range(10) for s_C in range(10)])[1]\n",
    "bn.cpt('G_CA').fillWith([match_prob(s_C, s_A) for s_C in range(10) for s_A in range(10)])[0]\n",
    "bn.cpt('G_CA').fillWith([1 - match_prob(s_C, s_A) for s_C in range(10) for s_A in range(10)])[1]\n",
    "bn.cpt('G_CD').fillWith([match_prob(s_C, s_D) for s_C in range(10) for s_D in range(10)])[0]\n",
    "bn.cpt('G_CD').fillWith([1 - match_prob(s_C, s_D) for s_C in range(10) for s_D in range(10)])[1]"
   ]
  },
  {
   "cell_type": "markdown",
   "id": "cc669578-94fa-42fc-a7b6-e3ca2720e6e5",
   "metadata": {},
   "source": []
  }
 ],
 "metadata": {
  "kernelspec": {
   "display_name": "Python 3 (ipykernel)",
   "language": "python",
   "name": "python3"
  },
  "language_info": {
   "codemirror_mode": {
    "name": "ipython",
    "version": 3
   },
   "file_extension": ".py",
   "mimetype": "text/x-python",
   "name": "python",
   "nbconvert_exporter": "python",
   "pygments_lexer": "ipython3",
   "version": "3.12.2"
  }
 },
 "nbformat": 4,
 "nbformat_minor": 5
}
